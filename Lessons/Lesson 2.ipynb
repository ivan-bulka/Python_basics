{
 "cells": [
  {
   "cell_type": "markdown",
   "metadata": {},
   "source": [
    "# Операции с числами"
   ]
  },
  {
   "cell_type": "code",
   "execution_count": 1,
   "metadata": {},
   "outputs": [
    {
     "data": {
      "text/plain": [
       "(1+2j)"
      ]
     },
     "execution_count": 1,
     "metadata": {},
     "output_type": "execute_result"
    }
   ],
   "source": [
    "1+2j"
   ]
  },
  {
   "cell_type": "code",
   "execution_count": 2,
   "metadata": {},
   "outputs": [
    {
     "data": {
      "text/plain": [
       "complex"
      ]
     },
     "execution_count": 2,
     "metadata": {},
     "output_type": "execute_result"
    }
   ],
   "source": [
    "type (1+3j)"
   ]
  },
  {
   "cell_type": "code",
   "execution_count": 3,
   "metadata": {},
   "outputs": [
    {
     "data": {
      "text/plain": [
       "0.1"
      ]
     },
     "execution_count": 3,
     "metadata": {},
     "output_type": "execute_result"
    }
   ],
   "source": [
    ".1"
   ]
  },
  {
   "cell_type": "code",
   "execution_count": 4,
   "metadata": {},
   "outputs": [
    {
     "data": {
      "text/plain": [
       "0.01"
      ]
     },
     "execution_count": 4,
     "metadata": {},
     "output_type": "execute_result"
    }
   ],
   "source": [
    ".01"
   ]
  },
  {
   "cell_type": "code",
   "execution_count": 5,
   "metadata": {},
   "outputs": [
    {
     "data": {
      "text/plain": [
       "0.1"
      ]
     },
     "execution_count": 5,
     "metadata": {},
     "output_type": "execute_result"
    }
   ],
   "source": [
    "0.1"
   ]
  },
  {
   "cell_type": "code",
   "execution_count": 6,
   "metadata": {},
   "outputs": [
    {
     "data": {
      "text/plain": [
       "2.23606797749979"
      ]
     },
     "execution_count": 6,
     "metadata": {},
     "output_type": "execute_result"
    }
   ],
   "source": [
    "abs(1+2j)"
   ]
  },
  {
   "cell_type": "code",
   "execution_count": 7,
   "metadata": {},
   "outputs": [
    {
     "data": {
      "text/plain": [
       "(-28+16j)"
      ]
     },
     "execution_count": 7,
     "metadata": {},
     "output_type": "execute_result"
    }
   ],
   "source": [
    "(1+5j)*(2+6j)"
   ]
  },
  {
   "cell_type": "code",
   "execution_count": null,
   "metadata": {},
   "outputs": [],
   "source": [
    "# Количество знаков после запятой"
   ]
  },
  {
   "cell_type": "code",
   "execution_count": 16,
   "metadata": {},
   "outputs": [
    {
     "name": "stdout",
     "output_type": "stream",
     "text": [
      "0.3333\n"
     ]
    }
   ],
   "source": [
    "from decimal import Decimal \n",
    "from decimal import getcontext \n",
    "getcontext().prec=4 \n",
    "print (Decimal('1')/3)"
   ]
  },
  {
   "cell_type": "code",
   "execution_count": 23,
   "metadata": {},
   "outputs": [
    {
     "data": {
      "text/plain": [
       "True"
      ]
     },
     "execution_count": 23,
     "metadata": {},
     "output_type": "execute_result"
    }
   ],
   "source": [
    "from decimal import Decimal \n",
    "from decimal import getcontext \n",
    "getcontext().prec=3 \n",
    "Decimal('1')/3 == Decimal('0.333')"
   ]
  },
  {
   "cell_type": "code",
   "execution_count": 24,
   "metadata": {},
   "outputs": [
    {
     "name": "stdout",
     "output_type": "stream",
     "text": [
      "True\n"
     ]
    }
   ],
   "source": [
    "from fractions import Fraction\n",
    "print (Fraction (7,71)*71 ==7)"
   ]
  },
  {
   "cell_type": "markdown",
   "metadata": {},
   "source": [
    "# Операции со строками"
   ]
  },
  {
   "cell_type": "code",
   "execution_count": 25,
   "metadata": {},
   "outputs": [],
   "source": [
    "my_string = \"This is a car\""
   ]
  },
  {
   "cell_type": "code",
   "execution_count": 26,
   "metadata": {},
   "outputs": [
    {
     "data": {
      "text/plain": [
       "'This is a car'"
      ]
     },
     "execution_count": 26,
     "metadata": {},
     "output_type": "execute_result"
    }
   ],
   "source": [
    "my_string"
   ]
  },
  {
   "cell_type": "code",
   "execution_count": 27,
   "metadata": {},
   "outputs": [],
   "source": [
    "my_string = 'This is a car'"
   ]
  },
  {
   "cell_type": "code",
   "execution_count": 29,
   "metadata": {},
   "outputs": [
    {
     "data": {
      "text/plain": [
       "'This is a car'"
      ]
     },
     "execution_count": 29,
     "metadata": {},
     "output_type": "execute_result"
    }
   ],
   "source": [
    "my_string"
   ]
  },
  {
   "cell_type": "code",
   "execution_count": 30,
   "metadata": {},
   "outputs": [],
   "source": [
    "my_string = \"This is a car.'What is it?'\""
   ]
  },
  {
   "cell_type": "code",
   "execution_count": 31,
   "metadata": {},
   "outputs": [
    {
     "data": {
      "text/plain": [
       "\"This is a car.'What is it?'\""
      ]
     },
     "execution_count": 31,
     "metadata": {},
     "output_type": "execute_result"
    }
   ],
   "source": [
    "my_string\n"
   ]
  },
  {
   "cell_type": "code",
   "execution_count": 32,
   "metadata": {},
   "outputs": [
    {
     "name": "stdout",
     "output_type": "stream",
     "text": [
      "This is a car.'What is it?'\n"
     ]
    }
   ],
   "source": [
    "print (my_string)"
   ]
  },
  {
   "cell_type": "code",
   "execution_count": 34,
   "metadata": {},
   "outputs": [
    {
     "name": "stdout",
     "output_type": "stream",
     "text": [
      "This Is A Car.'What Is It?'\n"
     ]
    }
   ],
   "source": [
    "print(my_string.title())"
   ]
  },
  {
   "cell_type": "code",
   "execution_count": 35,
   "metadata": {},
   "outputs": [
    {
     "data": {
      "text/plain": [
       "'cardog'"
      ]
     },
     "execution_count": 35,
     "metadata": {},
     "output_type": "execute_result"
    }
   ],
   "source": [
    "a = 'car'\n",
    "b = 'dog'\n",
    "a+b"
   ]
  },
  {
   "cell_type": "code",
   "execution_count": 40,
   "metadata": {},
   "outputs": [
    {
     "data": {
      "text/plain": [
       "'car dog bicycle'"
      ]
     },
     "execution_count": 40,
     "metadata": {},
     "output_type": "execute_result"
    }
   ],
   "source": [
    "a+' '+ b +' '+'bicycle'"
   ]
  },
  {
   "cell_type": "code",
   "execution_count": 41,
   "metadata": {},
   "outputs": [
    {
     "data": {
      "text/plain": [
       "'CAR DOG BICYCLE'"
      ]
     },
     "execution_count": 41,
     "metadata": {},
     "output_type": "execute_result"
    }
   ],
   "source": [
    "(a+' '+ b +' '+'bicycle').upper()"
   ]
  },
  {
   "cell_type": "code",
   "execution_count": 48,
   "metadata": {},
   "outputs": [],
   "source": [
    "c = \"a + b + \\n + 'ferrary'\""
   ]
  },
  {
   "cell_type": "code",
   "execution_count": 49,
   "metadata": {},
   "outputs": [
    {
     "data": {
      "text/plain": [
       "\"a + b + \\n + 'ferrary'\""
      ]
     },
     "execution_count": 49,
     "metadata": {},
     "output_type": "execute_result"
    }
   ],
   "source": [
    "c"
   ]
  },
  {
   "cell_type": "code",
   "execution_count": 50,
   "metadata": {},
   "outputs": [
    {
     "name": "stdout",
     "output_type": "stream",
     "text": [
      "Hello everyone!\n"
     ]
    }
   ],
   "source": [
    "print(\"Hello everyone!\")"
   ]
  },
  {
   "cell_type": "code",
   "execution_count": 52,
   "metadata": {},
   "outputs": [
    {
     "name": "stdout",
     "output_type": "stream",
     "text": [
      "\t Hello everyone\n"
     ]
    }
   ],
   "source": [
    "print (\"\\t Hello everyone\")"
   ]
  },
  {
   "cell_type": "code",
   "execution_count": 53,
   "metadata": {},
   "outputs": [
    {
     "name": "stdout",
     "output_type": "stream",
     "text": [
      "\n",
      "Hello everyone\n"
     ]
    }
   ],
   "source": [
    "print (\"\\nHello everyone\")"
   ]
  },
  {
   "cell_type": "code",
   "execution_count": 55,
   "metadata": {},
   "outputs": [
    {
     "name": "stdout",
     "output_type": "stream",
     "text": [
      "Hello \n",
      "everyone\n"
     ]
    }
   ],
   "source": [
    "print ('Hello \\neveryone')"
   ]
  },
  {
   "cell_type": "code",
   "execution_count": 56,
   "metadata": {},
   "outputs": [
    {
     "name": "stdout",
     "output_type": "stream",
     "text": [
      "cardog\n"
     ]
    }
   ],
   "source": [
    "print (a+b)"
   ]
  },
  {
   "cell_type": "code",
   "execution_count": 58,
   "metadata": {},
   "outputs": [],
   "source": [
    "name = ' eric '"
   ]
  },
  {
   "cell_type": "code",
   "execution_count": 59,
   "metadata": {},
   "outputs": [
    {
     "data": {
      "text/plain": [
       "'eric '"
      ]
     },
     "execution_count": 59,
     "metadata": {},
     "output_type": "execute_result"
    }
   ],
   "source": [
    "name.lstrip()"
   ]
  },
  {
   "cell_type": "code",
   "execution_count": 60,
   "metadata": {},
   "outputs": [
    {
     "data": {
      "text/plain": [
       "' eric'"
      ]
     },
     "execution_count": 60,
     "metadata": {},
     "output_type": "execute_result"
    }
   ],
   "source": [
    "name.rstrip()"
   ]
  },
  {
   "cell_type": "code",
   "execution_count": 61,
   "metadata": {},
   "outputs": [
    {
     "data": {
      "text/plain": [
       "'eric'"
      ]
     },
     "execution_count": 61,
     "metadata": {},
     "output_type": "execute_result"
    }
   ],
   "source": [
    "name.strip()"
   ]
  },
  {
   "cell_type": "code",
   "execution_count": 76,
   "metadata": {},
   "outputs": [],
   "source": [
    "name_1 = '223Sa,ssasd'"
   ]
  },
  {
   "cell_type": "code",
   "execution_count": 79,
   "metadata": {},
   "outputs": [
    {
     "data": {
      "text/plain": [
       "'3Sa,ssasd'"
      ]
     },
     "execution_count": 79,
     "metadata": {},
     "output_type": "execute_result"
    }
   ],
   "source": [
    "name_1.strip('2')"
   ]
  },
  {
   "cell_type": "code",
   "execution_count": 80,
   "metadata": {},
   "outputs": [],
   "source": [
    "a = \"I love mercedes\""
   ]
  },
  {
   "cell_type": "code",
   "execution_count": 85,
   "metadata": {},
   "outputs": [
    {
     "data": {
      "text/plain": [
       "0"
      ]
     },
     "execution_count": 85,
     "metadata": {},
     "output_type": "execute_result"
    }
   ],
   "source": [
    "a.find(\"I\")"
   ]
  },
  {
   "cell_type": "code",
   "execution_count": 82,
   "metadata": {},
   "outputs": [
    {
     "data": {
      "text/plain": [
       "2"
      ]
     },
     "execution_count": 82,
     "metadata": {},
     "output_type": "execute_result"
    }
   ],
   "source": [
    "a.find(\"love\")"
   ]
  },
  {
   "cell_type": "code",
   "execution_count": 86,
   "metadata": {},
   "outputs": [
    {
     "data": {
      "text/plain": [
       "7"
      ]
     },
     "execution_count": 86,
     "metadata": {},
     "output_type": "execute_result"
    }
   ],
   "source": [
    "\"I love mercedes\".find(\"mercedes\")"
   ]
  },
  {
   "cell_type": "code",
   "execution_count": 87,
   "metadata": {},
   "outputs": [
    {
     "data": {
      "text/plain": [
       "7"
      ]
     },
     "execution_count": 87,
     "metadata": {},
     "output_type": "execute_result"
    }
   ],
   "source": [
    "\"I love mercedes\".index(\"mercedes\")"
   ]
  },
  {
   "cell_type": "code",
   "execution_count": 88,
   "metadata": {},
   "outputs": [
    {
     "data": {
      "text/plain": [
       "0"
      ]
     },
     "execution_count": 88,
     "metadata": {},
     "output_type": "execute_result"
    }
   ],
   "source": [
    "\"I love mercedes\".index(\"I\")"
   ]
  },
  {
   "cell_type": "code",
   "execution_count": 89,
   "metadata": {},
   "outputs": [
    {
     "data": {
      "text/plain": [
       "0"
      ]
     },
     "execution_count": 89,
     "metadata": {},
     "output_type": "execute_result"
    }
   ],
   "source": [
    "\"I love mercedes\".rindex(\"I\")"
   ]
  },
  {
   "cell_type": "code",
   "execution_count": 90,
   "metadata": {},
   "outputs": [
    {
     "data": {
      "text/plain": [
       "2"
      ]
     },
     "execution_count": 90,
     "metadata": {},
     "output_type": "execute_result"
    }
   ],
   "source": [
    "\"I love mercedes\".rindex(\"love\")"
   ]
  },
  {
   "cell_type": "code",
   "execution_count": 91,
   "metadata": {},
   "outputs": [
    {
     "data": {
      "text/plain": [
       "'we love mercedes'"
      ]
     },
     "execution_count": 91,
     "metadata": {},
     "output_type": "execute_result"
    }
   ],
   "source": [
    "a.replace(\"I\", \"we\")"
   ]
  },
  {
   "cell_type": "code",
   "execution_count": 99,
   "metadata": {},
   "outputs": [
    {
     "data": {
      "text/plain": [
       "['hello', 'I', 'Gogi']"
      ]
     },
     "execution_count": 99,
     "metadata": {},
     "output_type": "execute_result"
    }
   ],
   "source": [
    "\"hello7I7Gogi\".split(\"7\")"
   ]
  },
  {
   "cell_type": "code",
   "execution_count": 111,
   "metadata": {},
   "outputs": [
    {
     "ename": "IndentationError",
     "evalue": "expected an indented block (<ipython-input-111-70c98f02c8ec>, line 5)",
     "output_type": "error",
     "traceback": [
      "\u001b[1;36m  File \u001b[1;32m\"<ipython-input-111-70c98f02c8ec>\"\u001b[1;36m, line \u001b[1;32m5\u001b[0m\n\u001b[1;33m    print(\"{0} (age{1}) is a {2}\".format(name, age, occupation))\u001b[0m\n\u001b[1;37m        ^\u001b[0m\n\u001b[1;31mIndentationError\u001b[0m\u001b[1;31m:\u001b[0m expected an indented block\n"
     ]
    }
   ],
   "source": [
    "personal_data = {1: (\"Ann\", 29, \"Artist\"),\n",
    "                 2: (\"John\", 45, \"HR\"),\n",
    "                 3: (\"Mathew\", 32, \"doctor\")}\n",
    "for (name, age, occupation) in personal_data.values():\n",
    "print(\"{0} (age{1}) is a {2}\".format(name, age, occupation))"
   ]
  },
  {
   "cell_type": "markdown",
   "metadata": {},
   "source": [
    "# Условия"
   ]
  },
  {
   "cell_type": "code",
   "execution_count": 114,
   "metadata": {},
   "outputs": [
    {
     "name": "stdout",
     "output_type": "stream",
     "text": [
      "<class 'bool'>\n"
     ]
    }
   ],
   "source": [
    "is_connected = False\n",
    "print(type(is_connected))"
   ]
  },
  {
   "cell_type": "code",
   "execution_count": 115,
   "metadata": {},
   "outputs": [],
   "source": [
    "is_connected = int(False)"
   ]
  },
  {
   "cell_type": "code",
   "execution_count": 117,
   "metadata": {},
   "outputs": [
    {
     "data": {
      "text/plain": [
       "int"
      ]
     },
     "execution_count": 117,
     "metadata": {},
     "output_type": "execute_result"
    }
   ],
   "source": [
    "type(is_connected)"
   ]
  },
  {
   "cell_type": "code",
   "execution_count": 123,
   "metadata": {},
   "outputs": [
    {
     "name": "stdout",
     "output_type": "stream",
     "text": [
      "insert a number12\n",
      "12 Yes\n"
     ]
    }
   ],
   "source": [
    "a = int(input('insert a number'))\n",
    "if a%4==0:\n",
    "    print (a, \"Yes\")\n",
    "else: print (\"NO\")"
   ]
  },
  {
   "cell_type": "code",
   "execution_count": 132,
   "metadata": {},
   "outputs": [
    {
     "name": "stdout",
     "output_type": "stream",
     "text": [
      "0.07\n"
     ]
    }
   ],
   "source": [
    "comission = 0.07\n",
    "has_depth = True\n",
    "comission if has_depth else 0.06\n",
    "print (comission)"
   ]
  },
  {
   "cell_type": "code",
   "execution_count": 139,
   "metadata": {},
   "outputs": [
    {
     "name": "stdout",
     "output_type": "stream",
     "text": [
      "Print x3\n",
      "Print yqwe\n"
     ]
    },
    {
     "ename": "ValueError",
     "evalue": "invalid literal for int() with base 10: 'qwe'",
     "output_type": "error",
     "traceback": [
      "\u001b[1;31m---------------------------------------------------------------------------\u001b[0m",
      "\u001b[1;31mValueError\u001b[0m                                Traceback (most recent call last)",
      "\u001b[1;32m<ipython-input-139-dc6c2a8a46e5>\u001b[0m in \u001b[0;36m<module>\u001b[1;34m\u001b[0m\n\u001b[0;32m      1\u001b[0m \u001b[0mx\u001b[0m \u001b[1;33m=\u001b[0m \u001b[0mint\u001b[0m\u001b[1;33m(\u001b[0m\u001b[0minput\u001b[0m\u001b[1;33m(\u001b[0m\u001b[1;34m'Print x'\u001b[0m\u001b[1;33m)\u001b[0m\u001b[1;33m)\u001b[0m\u001b[1;33m\u001b[0m\u001b[1;33m\u001b[0m\u001b[0m\n\u001b[1;32m----> 2\u001b[1;33m \u001b[0my\u001b[0m \u001b[1;33m=\u001b[0m \u001b[0mint\u001b[0m\u001b[1;33m(\u001b[0m\u001b[0minput\u001b[0m\u001b[1;33m(\u001b[0m\u001b[1;34m'Print y'\u001b[0m\u001b[1;33m)\u001b[0m\u001b[1;33m)\u001b[0m\u001b[1;33m\u001b[0m\u001b[1;33m\u001b[0m\u001b[0m\n\u001b[0m\u001b[0;32m      3\u001b[0m \u001b[1;32mif\u001b[0m \u001b[0mx\u001b[0m\u001b[1;33m>\u001b[0m\u001b[1;36m0\u001b[0m\u001b[1;33m:\u001b[0m\u001b[1;33m\u001b[0m\u001b[1;33m\u001b[0m\u001b[0m\n\u001b[0;32m      4\u001b[0m     \u001b[1;32mif\u001b[0m \u001b[0my\u001b[0m\u001b[1;33m>\u001b[0m\u001b[1;36m0\u001b[0m\u001b[1;33m:\u001b[0m \u001b[0mprint\u001b[0m \u001b[1;33m(\u001b[0m\u001b[1;34m'First part'\u001b[0m\u001b[1;33m)\u001b[0m\u001b[1;33m\u001b[0m\u001b[1;33m\u001b[0m\u001b[0m\n\u001b[0;32m      5\u001b[0m     \u001b[1;32melse\u001b[0m\u001b[1;33m:\u001b[0m \u001b[0mprint\u001b[0m \u001b[1;33m(\u001b[0m\u001b[1;34m'Fourth part'\u001b[0m\u001b[1;33m)\u001b[0m\u001b[1;33m\u001b[0m\u001b[1;33m\u001b[0m\u001b[0m\n",
      "\u001b[1;31mValueError\u001b[0m: invalid literal for int() with base 10: 'qwe'"
     ]
    }
   ],
   "source": [
    "x = int(input('Print x'))\n",
    "y = int(input('Print y'))\n",
    "if x>0:\n",
    "    if y>0: print ('First part')\n",
    "    else: print ('Fourth part')\n",
    "else:\n",
    "    if y<0: print ('Third part')\n",
    "    else: print ('Second part')\n",
    "    "
   ]
  },
  {
   "cell_type": "code",
   "execution_count": 146,
   "metadata": {},
   "outputs": [
    {
     "name": "stdout",
     "output_type": "stream",
     "text": [
      "Print x2\n",
      "Print y-5\n",
      "Fourth part\n"
     ]
    }
   ],
   "source": [
    "x = int(input('Print x'))\n",
    "y = int(input('Print y'))\n",
    "if x>0:\n",
    "    if y>0: print ('First part')\n",
    "    else: print ('Fourth part')\n",
    "else:\n",
    "    if y<0: print ('Third part')\n",
    "    else: print ('Second part')"
   ]
  },
  {
   "cell_type": "code",
   "execution_count": 152,
   "metadata": {},
   "outputs": [
    {
     "ename": "SyntaxError",
     "evalue": "invalid syntax (<ipython-input-152-4a6dee5fbd36>, line 6)",
     "output_type": "error",
     "traceback": [
      "\u001b[1;36m  File \u001b[1;32m\"<ipython-input-152-4a6dee5fbd36>\"\u001b[1;36m, line \u001b[1;32m6\u001b[0m\n\u001b[1;33m    elif:\u001b[0m\n\u001b[1;37m        ^\u001b[0m\n\u001b[1;31mSyntaxError\u001b[0m\u001b[1;31m:\u001b[0m invalid syntax\n"
     ]
    }
   ],
   "source": [
    "x = int(input('Print x'))\n",
    "y = int(input('Print y'))\n",
    "if x>0:\n",
    "    if y>0: print ('First part')\n",
    "    else: print ('Fourth part')\n",
    "elif:\n",
    "    if y<0: print ('Third part')\n",
    "    else: print ('Second part')\n",
    "else: \n",
    "    print ('Mistake')"
   ]
  },
  {
   "cell_type": "code",
   "execution_count": 151,
   "metadata": {},
   "outputs": [
    {
     "name": "stdout",
     "output_type": "stream",
     "text": [
      "Введите x: 7\n",
      "Введите y: -4\n",
      "Четвертая четверть\n"
     ]
    }
   ],
   "source": [
    "x = int(input(\"Введите x: \"))\n",
    "y = int(input(\"Введите y: \"))\n",
    "if x > 0 and y > 0:\n",
    "    print(\"Первая четверть\")\n",
    "elif x > 0 and y < 0:\n",
    "    print(\"Четвертая четверть\")\n",
    "elif y > 0:\n",
    "    print(\"Вторая четверть\")\n",
    "else:\n",
    "    print(\"Третья четверть\")"
   ]
  },
  {
   "cell_type": "code",
   "execution_count": 1,
   "metadata": {},
   "outputs": [
    {
     "name": "stdout",
     "output_type": "stream",
     "text": [
      "Введите год12\n",
      "Высокосный год\n"
     ]
    }
   ],
   "source": [
    "year = int(input(\"Введите год\"))\n",
    "if year%4 == 0: print (\"Высокосный год\")\n",
    "else: print (\"Невысокосный год\")"
   ]
  },
  {
   "cell_type": "markdown",
   "metadata": {},
   "source": [
    "# Цыклы"
   ]
  },
  {
   "cell_type": "code",
   "execution_count": 5,
   "metadata": {},
   "outputs": [
    {
     "name": "stdout",
     "output_type": "stream",
     "text": [
      "You can play\n",
      "You can play\n",
      "You can play\n",
      "You can play\n",
      "You can play\n",
      "Game over\n"
     ]
    }
   ],
   "source": [
    "a = 5 \n",
    "while a>0:\n",
    "    print ('You can play')\n",
    "    a=a-1\n",
    "    continue\n",
    "else: print(\"Game over\")\n",
    "    "
   ]
  },
  {
   "cell_type": "code",
   "execution_count": 8,
   "metadata": {},
   "outputs": [
    {
     "name": "stdout",
     "output_type": "stream",
     "text": [
      "Add a new name, pleasewe\n",
      "Add a new name, pleasewe\n",
      "Add a new name, pleasewe\n",
      "Add a new name, pleasequit\n",
      "['we', 'we', 'we']\n"
     ]
    }
   ],
   "source": [
    "names = []\n",
    "new_name =''\n",
    "while new_name != 'quit':\n",
    "    new_name = input('Add a new name, please')\n",
    "    names.append(new_name)\n",
    "    continue\n",
    "del names[-1]\n",
    "print(names)"
   ]
  },
  {
   "cell_type": "code",
   "execution_count": null,
   "metadata": {},
   "outputs": [
    {
     "name": "stdout",
     "output_type": "stream",
     "text": [
      "enter the name qwe\n",
      "enter the estimate 1\n",
      "enter the name asdf\n",
      "enter the estimate 4\n",
      "enter the name asfd\n",
      "enter the estimate 4\n",
      "enter the name asfd\n",
      "enter the estimate 1\n"
     ]
    }
   ],
   "source": [
    "names = []\n",
    "g_name= ''\n",
    "g_estimate=0\n",
    "\n",
    "while g_estimate <5:\n",
    "    g_name = input('enter the name ')\n",
    "    g_estimate = int(input('enter the estimate '))\n",
    "    names.append(g_name)\n",
    "    continue \n",
    "else:\n",
    "    print(names)\n",
    "    print(na)\n",
    "    print('Congradulation')"
   ]
  },
  {
   "cell_type": "code",
   "execution_count": null,
   "metadata": {},
   "outputs": [],
   "source": [
    "names = []\n",
    "g_name= ''\n",
    "g_estimate=0\n",
    "\n",
    "while g_estimate <5:\n",
    "    g_name = input('enter the name ')\n",
    "    g_estimate = int(input('enter the estimate '))\n",
    "    names.append(g_name)\n",
    "    continue \n",
    "else:\n",
    "    print(names)\n",
    "    print(names.mean())\n",
    "    print('Congradulation')"
   ]
  },
  {
   "cell_type": "code",
   "execution_count": null,
   "metadata": {},
   "outputs": [],
   "source": [
    "# Использование while для обработки элементов текста"
   ]
  },
  {
   "cell_type": "code",
   "execution_count": 6,
   "metadata": {},
   "outputs": [
    {
     "name": "stdout",
     "output_type": "stream",
     "text": [
      "['Ivan']\n",
      "['Ivan', 'Igor']\n",
      "['Ivan', 'Igor', 'Sasha']\n"
     ]
    }
   ],
   "source": [
    "unconfirmed_users = ['Sasha', 'Igor', 'Ivan']\n",
    "confirmed_users = []\n",
    "while len(unconfirmed_users)>0:\n",
    "    curent_user = unconfirmed_users.pop()\n",
    "    confirmed_users.append(curent_user)\n",
    "    print (confirmed_users)"
   ]
  },
  {
   "cell_type": "code",
   "execution_count": 7,
   "metadata": {},
   "outputs": [
    {
     "name": "stdout",
     "output_type": "stream",
     "text": [
      "Confirming user Ada...confirmed!\n",
      "Confirming user Billy...confirmed!\n",
      "Confirming user Clarence...confirmed!\n",
      "Confirming user Daria...confirmed!\n"
     ]
    }
   ],
   "source": [
    "# Создадим два списка\n",
    "unconfirmed_users = ['ada', 'billy', 'clarence', 'daria']\n",
    "confirmed_users = []\n",
    "\n",
    "# Пройдем по списку и проверим каждого пользователя\n",
    "while len(unconfirmed_users) > 0:\n",
    "    \n",
    "    # Достанем последнего пользователя\n",
    "    current_user = unconfirmed_users.pop(0)\n",
    "    print(\"Confirming user %s...confirmed!\" % current_user.title())\n",
    "    \n",
    "    # добавим его в лист подтвержденных\n",
    "    confirmed_users.append(current_user)"
   ]
  },
  {
   "cell_type": "code",
   "execution_count": 20,
   "metadata": {},
   "outputs": [
    {
     "name": "stdout",
     "output_type": "stream",
     "text": [
      "10.0\n",
      "8.0\n",
      "6.0\n",
      "4.0\n",
      "2.0\n",
      "0.0\n",
      "bla\n"
     ]
    }
   ],
   "source": [
    "x = float(10)\n",
    "print (x)\n",
    "while x:\n",
    "    x = x-1\n",
    "    if  x % 2 !=0: continue\n",
    "    print (x)\n",
    "else: print ('bla')"
   ]
  },
  {
   "cell_type": "code",
   "execution_count": 17,
   "metadata": {},
   "outputs": [
    {
     "name": "stdout",
     "output_type": "stream",
     "text": [
      "8\n"
     ]
    }
   ],
   "source": [
    "x = 9\n",
    "while x:\n",
    "    x = x-1\n",
    "    if  x % 2 !=0: break\n",
    "    print (x)"
   ]
  },
  {
   "cell_type": "code",
   "execution_count": 23,
   "metadata": {},
   "outputs": [
    {
     "name": "stdout",
     "output_type": "stream",
     "text": [
      "Enter name:er\n",
      "Enter age: 1\n",
      "Hello er => 1\n",
      "Enter name:stop\n"
     ]
    }
   ],
   "source": [
    "while 1:\n",
    "    name = input('Enter name:')\n",
    "    if name == 'stop': break\n",
    "    age = input('Enter age: ')\n",
    "    print('Hello', name, '=>', int(age) ** 2)"
   ]
  },
  {
   "cell_type": "code",
   "execution_count": 24,
   "metadata": {},
   "outputs": [
    {
     "name": "stdout",
     "output_type": "stream",
     "text": [
      "Enter name:we\n",
      "Enter age: 1\n",
      "Hello we => 1\n",
      "Enter name:stop\n"
     ]
    }
   ],
   "source": [
    "while 1:\n",
    "    name = input('Enter name:')\n",
    "    if name == 'stop': break\n",
    "    else: age = input('Enter age: ')\n",
    "    print('Hello', name, '=>', int(age) ** 2)"
   ]
  },
  {
   "cell_type": "markdown",
   "metadata": {},
   "source": [
    "# Практика"
   ]
  },
  {
   "cell_type": "code",
   "execution_count": null,
   "metadata": {},
   "outputs": [],
   "source": [
    "# Даны два целых числа A и B (при этом A≤B). Выведите все числа от A до B включительно."
   ]
  },
  {
   "cell_type": "code",
   "execution_count": 32,
   "metadata": {},
   "outputs": [
    {
     "name": "stdout",
     "output_type": "stream",
     "text": [
      "Введите A1\n",
      "Введите B6\n",
      "1\n",
      "6\n"
     ]
    }
   ],
   "source": [
    "a = int(input('Введите A'))\n",
    "b = int(input('Введите B'))\n",
    "if a>=b: print ('А должно быть меньше B')\n",
    "else:\n",
    "    for i in [a, b]:\n",
    "        print(i)\n",
    "        i=i+1"
   ]
  },
  {
   "cell_type": "code",
   "execution_count": 35,
   "metadata": {},
   "outputs": [
    {
     "name": "stdout",
     "output_type": "stream",
     "text": [
      "Введите A 3\n",
      "Введите B 7\n",
      "3\n",
      "4\n",
      "5\n",
      "6\n"
     ]
    }
   ],
   "source": [
    "a = int(input('Введите A '))\n",
    "b = int(input('Введите B '))\n",
    "i=a\n",
    "while i<b:\n",
    "        print(i)\n",
    "        i=i+1"
   ]
  },
  {
   "cell_type": "code",
   "execution_count": null,
   "metadata": {},
   "outputs": [],
   "source": [
    "# По данному натуральном n вычислите сумму 1*2+2*2+3*2++n*2"
   ]
  },
  {
   "cell_type": "code",
   "execution_count": 34,
   "metadata": {},
   "outputs": [
    {
     "name": "stdout",
     "output_type": "stream",
     "text": [
      "Введите значение4\n"
     ]
    },
    {
     "ename": "KeyboardInterrupt",
     "evalue": "",
     "output_type": "error",
     "traceback": [
      "\u001b[1;31m---------------------------------------------------------------------------\u001b[0m",
      "\u001b[1;31mKeyboardInterrupt\u001b[0m                         Traceback (most recent call last)",
      "\u001b[1;32m<ipython-input-34-cf354d244fb2>\u001b[0m in \u001b[0;36m<module>\u001b[1;34m\u001b[0m\n\u001b[0;32m      3\u001b[0m \u001b[0msum1\u001b[0m\u001b[1;33m=\u001b[0m\u001b[1;36m0\u001b[0m\u001b[1;33m\u001b[0m\u001b[1;33m\u001b[0m\u001b[0m\n\u001b[0;32m      4\u001b[0m \u001b[1;32mwhile\u001b[0m \u001b[0mn\u001b[0m\u001b[1;33m<=\u001b[0m\u001b[0mx\u001b[0m\u001b[1;33m:\u001b[0m\u001b[1;33m\u001b[0m\u001b[1;33m\u001b[0m\u001b[0m\n\u001b[1;32m----> 5\u001b[1;33m     \u001b[0msum1\u001b[0m \u001b[1;33m=\u001b[0m \u001b[0msum1\u001b[0m\u001b[1;33m+\u001b[0m\u001b[0mn\u001b[0m\u001b[1;33m**\u001b[0m\u001b[1;36m2\u001b[0m\u001b[1;33m\u001b[0m\u001b[1;33m\u001b[0m\u001b[0m\n\u001b[0m\u001b[0;32m      6\u001b[0m \u001b[0mprint\u001b[0m\u001b[1;33m(\u001b[0m\u001b[0msum1\u001b[0m\u001b[1;33m)\u001b[0m\u001b[1;33m\u001b[0m\u001b[1;33m\u001b[0m\u001b[0m\n",
      "\u001b[1;31mKeyboardInterrupt\u001b[0m: "
     ]
    }
   ],
   "source": [
    "x = int(input('Введите значение'))\n",
    "n=1\n",
    "sum1=0\n",
    "while n<=x:\n",
    "    sum1 = sum1+n**2  \n",
    "print(sum1)"
   ]
  },
  {
   "cell_type": "code",
   "execution_count": 30,
   "metadata": {},
   "outputs": [
    {
     "name": "stdout",
     "output_type": "stream",
     "text": [
      "Введите значение5\n",
      "55\n"
     ]
    }
   ],
   "source": [
    "z = int(input('Введите значение'))\n",
    "sum1=0\n",
    "for i in range(1, z+1, 1):\n",
    "    sum1 +=i*i\n",
    "print(sum1)"
   ]
  },
  {
   "cell_type": "code",
   "execution_count": null,
   "metadata": {},
   "outputs": [],
   "source": [
    "# По данному целому неотрицательному n вычислите значение n!"
   ]
  },
  {
   "cell_type": "code",
   "execution_count": 38,
   "metadata": {},
   "outputs": [
    {
     "name": "stdout",
     "output_type": "stream",
     "text": [
      "Введите t6\n",
      "720\n"
     ]
    }
   ],
   "source": [
    "t = int(input(\"Введите t\"))\n",
    "d=1\n",
    "for t in range (1, t+1):\n",
    "    d=d*t\n",
    "print(d)"
   ]
  },
  {
   "cell_type": "code",
   "execution_count": 43,
   "metadata": {},
   "outputs": [
    {
     "name": "stdout",
     "output_type": "stream",
     "text": [
      "введите n6\n",
      "введите k3\n",
      "20.0\n"
     ]
    }
   ],
   "source": [
    "n = int(input('введите n'))\n",
    "k = int(input('введите k'))\n",
    "fact_n = 1\n",
    "fact_k = 1\n",
    "fact_n_k = 1\n",
    "for i in range (1, n+1):\n",
    "    fact_n = fact_n*i\n",
    "for i in range (1, k+1):\n",
    "    fact_k = fact_k*i\n",
    "for i in range (1, n-k+1):\n",
    "    fact_n_k = fact_n_k*i\n",
    "res = fact_n/fact_k/fact_n_k\n",
    "print (res)"
   ]
  },
  {
   "cell_type": "code",
   "execution_count": null,
   "metadata": {},
   "outputs": [],
   "source": [
    "# Напишите программу, которая по данному числу n от 1 до 9 выводит на экран n пингвинов. \n",
    "# Изображение одного пингвина имеет размер 5×9 символов, между двумя соседними пингвинами также имеется пустой \n",
    "#(из пробелов) столбец. Разрешается вывести пустой столбец после последнего пингвина. \n",
    "# Для упрощения рисования скопируйте пингвина из примера в среду разработки."
   ]
  },
  {
   "cell_type": "code",
   "execution_count": null,
   "metadata": {},
   "outputs": [],
   "source": [
    "   _~_    \n",
    "  (o o)   \n",
    " /  V  \\  \n",
    "/(  _  )\\ \n",
    "  ^^ ^^   "
   ]
  },
  {
   "cell_type": "code",
   "execution_count": 64,
   "metadata": {},
   "outputs": [
    {
     "name": "stdout",
     "output_type": "stream",
     "text": [
      "   _~_\n",
      "  (o o)\n",
      " /  V  \\  \n",
      "\n",
      "введите количество пингвинов4\n",
      "   _~_\n",
      "  (o o)\n",
      " /  V  \\  \n",
      "   _~_\n",
      "  (o o)\n",
      " /  V  \\  \n",
      "   _~_\n",
      "  (o o)\n",
      " /  V  \\  \n",
      "   _~_\n",
      "  (o o)\n",
      " /  V  \\  \n",
      "\n"
     ]
    }
   ],
   "source": [
    "string = (\"   \" + \"_~_\" \"\\n\" + \"  \" \n",
    "          + \"(o o)\" \"\\n\" \n",
    "          + \" /  V  \\  \" \"\\n\")\n",
    "print(string)\n",
    "x = int(input (\"введите количество пингвинов\"))\n",
    "y = x*string\n",
    "print(y)"
   ]
  },
  {
   "cell_type": "code",
   "execution_count": null,
   "metadata": {},
   "outputs": [],
   "source": [
    "# Шоколадка имеет вид прямоугольника, разделенного на n×m долек. \n",
    "# Шоколадку можно один раз разломить по прямой на две части. \n",
    "# Определите, можно ли таким образом отломить от шоколадки ровно k долек."
   ]
  },
  {
   "cell_type": "code",
   "execution_count": 77,
   "metadata": {},
   "outputs": [
    {
     "name": "stdout",
     "output_type": "stream",
     "text": [
      "2,4,5\n",
      "NO\n"
     ]
    }
   ],
   "source": [
    "m, n, k = [int(i) for i in input().split(',')]\n",
    "if (n%k == 0) or (m%k == 0):\n",
    "    print (\"YES\")\n",
    "else:\n",
    "    print(\"NO\")"
   ]
  },
  {
   "cell_type": "code",
   "execution_count": null,
   "metadata": {},
   "outputs": [],
   "source": [
    "# Даны числа a и b. Решите в целых числах уравнение ax+b=0. Выведите все решения этого уравнения, \n",
    "# если их число конечно, выведите слово NO, \n",
    "# если решений нет, выведите слово INF, если решений бесконечно много."
   ]
  },
  {
   "cell_type": "code",
   "execution_count": 81,
   "metadata": {},
   "outputs": [
    {
     "name": "stdout",
     "output_type": "stream",
     "text": [
      "3\n",
      "4\n",
      "NO\n"
     ]
    }
   ],
   "source": [
    "a, b = int(input()), int(input())\n",
    "if (a==0) and (b==0):\n",
    "    print (\"INF\")\n",
    "elif a != 0 and (b%a==0):\n",
    "        print (-b/a)\n",
    "else: \n",
    "    print (\"NO\")"
   ]
  },
  {
   "cell_type": "code",
   "execution_count": null,
   "metadata": {},
   "outputs": [],
   "source": [
    "# Даны числа a, b, c, d. Выведите в порядке возрастания все целые числа от 0 до 1000, \n",
    "# которые являются корнями уравнения ax3+bx2+cx+d=0."
   ]
  },
  {
   "cell_type": "code",
   "execution_count": 91,
   "metadata": {},
   "outputs": [
    {
     "name": "stdout",
     "output_type": "stream",
     "text": [
      "-1,2,3,-6\n",
      "2\n"
     ]
    }
   ],
   "source": [
    "a, b, c, d = [int(i) for i in input().split(',')]\n",
    "for x in range(1001):\n",
    "    if a*x**3 + b*x**2+ c*x + d == 0:\n",
    "        print(x)"
   ]
  },
  {
   "cell_type": "code",
   "execution_count": null,
   "metadata": {},
   "outputs": [],
   "source": [
    "# По данному натуральном n вычислите сумму 1!+2!+3!++n!. \n",
    "# В решении этой задачи можно использовать только один цикл."
   ]
  },
  {
   "cell_type": "code",
   "execution_count": 92,
   "metadata": {},
   "outputs": [
    {
     "name": "stdout",
     "output_type": "stream",
     "text": [
      "2\n",
      "3\n"
     ]
    }
   ],
   "source": [
    "n = int(input())\n",
    "def sum_fact(n):\n",
    "    \"\"\"\n",
    "    param n - integer\n",
    "    Calculates factorials: 1! + 2! + 3! +... + n! \n",
    "    \"\"\"\n",
    "    run_sum, total_sum = 1,0 \n",
    "    for i in range(n):\n",
    "        run_sum*=(i+1)\n",
    "        total_sum+=run_sum\n",
    "    return total_sum\n",
    "print(sum_fact(n))"
   ]
  },
  {
   "cell_type": "code",
   "execution_count": null,
   "metadata": {},
   "outputs": [],
   "source": [
    "# Для данного числа n<100 закончите фразу “На лугу пасется...” одним из возможных продолжений: \n",
    "# “n коров”, “n корова”, “n коровы”, правильно склоняя слово “корова”."
   ]
  },
  {
   "cell_type": "code",
   "execution_count": 98,
   "metadata": {},
   "outputs": [
    {
     "name": "stdout",
     "output_type": "stream",
     "text": [
      "Введите количество коров67\n",
      "На лугу пасется 67 коров\n"
     ]
    }
   ],
   "source": [
    "x = int(input(\"Введите количество коров\"))\n",
    "if x == 1: \n",
    "    print (\"На лугу пасется\", x, \"корова\")\n",
    "elif x == 2 or x== 3 or x==4:\n",
    "    print (\"На лугу пасется\", x, \"коров\")\n",
    "else:\n",
    "    print (\"На лугу пасется\", x, \"коров\")"
   ]
  },
  {
   "cell_type": "code",
   "execution_count": null,
   "metadata": {},
   "outputs": [],
   "source": [
    "# Квадрат трехзначного числа оканчивается тремя цифрами, равными этому числу. Найдите и выведите все такие числа."
   ]
  },
  {
   "cell_type": "code",
   "execution_count": 102,
   "metadata": {},
   "outputs": [
    {
     "name": "stdout",
     "output_type": "stream",
     "text": [
      "376\n",
      "625\n"
     ]
    }
   ],
   "source": [
    "for i in range (100, 999):\n",
    "    if (i**2)%1000 == i:\n",
    "        print(i)"
   ]
  },
  {
   "cell_type": "code",
   "execution_count": 103,
   "metadata": {},
   "outputs": [
    {
     "data": {
      "text/plain": [
       "141376"
      ]
     },
     "execution_count": 103,
     "metadata": {},
     "output_type": "execute_result"
    }
   ],
   "source": [
    "376**2"
   ]
  },
  {
   "cell_type": "code",
   "execution_count": 104,
   "metadata": {},
   "outputs": [
    {
     "data": {
      "text/plain": [
       "390625"
      ]
     },
     "execution_count": 104,
     "metadata": {},
     "output_type": "execute_result"
    }
   ],
   "source": [
    "625**2"
   ]
  },
  {
   "cell_type": "code",
   "execution_count": null,
   "metadata": {},
   "outputs": [],
   "source": [
    "# По данному натуральному n≤9 выведите лесенку из n ступенек, i-я ступенька состоит из чисел от 1 до i без пробелов."
   ]
  },
  {
   "cell_type": "code",
   "execution_count": 110,
   "metadata": {},
   "outputs": [
    {
     "name": "stdout",
     "output_type": "stream",
     "text": [
      "Введите количество ступенек6\n",
      "1\n",
      "12\n",
      "123\n",
      "1234\n",
      "12345\n",
      "123456\n"
     ]
    }
   ],
   "source": [
    "n = int(input(\"Введите количество ступенек\"))\n",
    "x = \"\"\n",
    "for i in range(1,n+1):\n",
    "    x = x + str(i)\n",
    "    print(x)"
   ]
  },
  {
   "cell_type": "code",
   "execution_count": 106,
   "metadata": {},
   "outputs": [
    {
     "data": {
      "text/plain": [
       "'334ddf'"
      ]
     },
     "execution_count": 106,
     "metadata": {},
     "output_type": "execute_result"
    }
   ],
   "source": [
    "d = \"334\"\n",
    "c = \"ddf\"\n",
    "d+c"
   ]
  },
  {
   "cell_type": "code",
   "execution_count": null,
   "metadata": {},
   "outputs": [],
   "source": [
    "# Дано три числа. Упорядочите их в порядке неубывания. Программа должна считывать три числа a, b, c, \n",
    "# затем программа должна менять их значения так, чтобы стали выполнены условия a <= b <= c, \n",
    "# затем программа выводит тройку a, b, c."
   ]
  },
  {
   "cell_type": "code",
   "execution_count": 117,
   "metadata": {},
   "outputs": [
    {
     "name": "stdout",
     "output_type": "stream",
     "text": [
      "1,5,1\n",
      "5 1 1\n"
     ]
    }
   ],
   "source": [
    "a, b, c = [int(i) for i in input().split(',')]\n",
    "if b>c and c>a:\n",
    "        a,b,c = b,c,a  \n",
    "elif b>=c and a>=c and b>=a:\n",
    "        a,b,c = b,a,c\n",
    "elif c>=b and b>=a:\n",
    "        a,b,c = c,b,a\n",
    "elif c>=b and a>=b and c>=b:\n",
    "        a,b,c = c,a,b\n",
    "else:\n",
    "       a,b,c = a,b,c\n",
    "print (a,b,c)"
   ]
  },
  {
   "cell_type": "code",
   "execution_count": null,
   "metadata": {},
   "outputs": [],
   "source": [
    "# Давным-давно билет на одну поездку в метро стоил 15 рублей, билет на 10 поездок стоил 125 рублей, \n",
    "# билет на 60 поездок стоил 440 рублей. Пассажир планирует совершить n поездок. \n",
    "# Определите, сколько билетов каждого вида он должен приобрести, чтобы суммарное количество оплаченных поездок \n",
    "# было не меньше n, а общая стоимость приобретенных билетов — минимальна."
   ]
  },
  {
   "cell_type": "code",
   "execution_count": 125,
   "metadata": {
    "scrolled": true
   },
   "outputs": [
    {
     "name": "stdout",
     "output_type": "stream",
     "text": [
      "Введите количество билетов 144\n",
      "Необходимо:\n",
      " 2 билетов на 60 поездок,\n",
      " 2 билетов на 10 поездок,\n",
      " 4 билетов на 1 поездку,\n"
     ]
    }
   ],
   "source": [
    "x = int(input(\"Введите количество билетов \"))\n",
    "type_60 = x//60\n",
    "type_10 = x%60//10\n",
    "type_1 = x%60%10\n",
    "\n",
    "print(\"Необходимо:\" \"\\n\", type_60, \"билетов на 60 поездок,\" \"\\n\",\n",
    "     type_10, \"билетов на 10 поездок,\" \"\\n\",\n",
    "     type_1, \"билетов на 1 поездку,\")"
   ]
  },
  {
   "cell_type": "code",
   "execution_count": null,
   "metadata": {},
   "outputs": [],
   "source": [
    "# Запишите букву 'A' (латинскую, заглавную) 100 раз подряд. Сдайте на проверку программу, которая выводит эту \n",
    "# строчку(только буквы, без кавычек)."
   ]
  },
  {
   "cell_type": "code",
   "execution_count": 128,
   "metadata": {},
   "outputs": [
    {
     "name": "stdout",
     "output_type": "stream",
     "text": [
      "AAAAAAAAAAAAAAAAAAAAAAAAAAAAAAAAAAAAAAAAAAAAAAAAAAAAAAAAAAAAAAAAAAAAAAAAAAAAAAAAAAAAAAAAAAAAAAAAAAAA\n"
     ]
    }
   ],
   "source": [
    "A=\"A\"\n",
    "print (A*100)"
   ]
  },
  {
   "cell_type": "code",
   "execution_count": null,
   "metadata": {},
   "outputs": [],
   "source": [
    "# Число 179 записали 50 раз подряд. Полученное 150-значное число возвели в квадрат. Сколько получилось?"
   ]
  },
  {
   "cell_type": "code",
   "execution_count": 131,
   "metadata": {},
   "outputs": [
    {
     "name": "stdout",
     "output_type": "stream",
     "text": [
      "32105178251324397470543616689762835908982055128201274347420493566639712785858932005078151224297370443516589662735808881955028101174247320393466539612621548475402329256183110036963890817744671598525452379306233160087013940867794721648575502429356283210137063990917844771698625552479406333260187114041\n"
     ]
    }
   ],
   "source": [
    "a = \"179\"\n",
    "a = a*50\n",
    "b = int(a)**2\n",
    "print(b)"
   ]
  },
  {
   "cell_type": "code",
   "execution_count": null,
   "metadata": {},
   "outputs": [],
   "source": [
    "# Шахматная ладья ходит по горизонтали или вертикали. Даны две различные клетки шахматной доски, определите, \n",
    "# может ли ладья попасть с первой клетки на вторую одним ходом."
   ]
  },
  {
   "cell_type": "code",
   "execution_count": 133,
   "metadata": {},
   "outputs": [
    {
     "name": "stdout",
     "output_type": "stream",
     "text": [
      "1,2,1,6\n",
      "NO\n"
     ]
    }
   ],
   "source": [
    "x1, y1, x2, y2 = [int(i) for i in input().split(',')]\n",
    "if abs(x1-x2)<=1 and abs(y1-y2)<=1:\n",
    "    print(\"YES\")\n",
    "else: \n",
    "    print(\"NO\")"
   ]
  },
  {
   "cell_type": "code",
   "execution_count": null,
   "metadata": {},
   "outputs": [],
   "source": [
    "# Число 179**10 записали четыре раза подряд. Из получившегося числа извлекли корень степени 10. Сколько получилось?"
   ]
  },
  {
   "cell_type": "code",
   "execution_count": 142,
   "metadata": {},
   "outputs": [],
   "source": [
    "import math"
   ]
  },
  {
   "cell_type": "code",
   "execution_count": 143,
   "metadata": {},
   "outputs": [
    {
     "name": "stdout",
     "output_type": "stream",
     "text": [
      "1421847540.1564655\n"
     ]
    }
   ],
   "source": [
    "a = 179**10\n",
    "a = str(a)*4\n",
    "a = math.pow(int(a), 1/10)\n",
    "print(a)"
   ]
  },
  {
   "cell_type": "code",
   "execution_count": null,
   "metadata": {},
   "outputs": [],
   "source": [
    "# Шахматный конь ходит буквой “Г” — на две клетки по вертикали в любом направлении и на одну клетку \n",
    "# по горизонтали, или наоборот. Даны две различные клетки шахматной доски, определите, может ли конь \n",
    "# попасть с первой клетки на вторую одним ходом."
   ]
  },
  {
   "cell_type": "code",
   "execution_count": 148,
   "metadata": {},
   "outputs": [
    {
     "name": "stdout",
     "output_type": "stream",
     "text": [
      "1,2,2,4\n",
      "YES\n"
     ]
    }
   ],
   "source": [
    "x1, y1, x2, y2 = [int(i) for i in input().split(',')]\n",
    "if (abs(x1-x2) ==1 and abs(y1-y2) ==2) or (abs(x1-x2) ==2 and abs(y1-y2) ==1):\n",
    "    print(\"YES\")\n",
    "else:\n",
    "    print(\"NO\")"
   ]
  },
  {
   "cell_type": "code",
   "execution_count": null,
   "metadata": {},
   "outputs": [],
   "source": []
  }
 ],
 "metadata": {
  "kernelspec": {
   "display_name": "Python 3",
   "language": "python",
   "name": "python3"
  },
  "language_info": {
   "codemirror_mode": {
    "name": "ipython",
    "version": 3
   },
   "file_extension": ".py",
   "mimetype": "text/x-python",
   "name": "python",
   "nbconvert_exporter": "python",
   "pygments_lexer": "ipython3",
   "version": "3.7.3"
  }
 },
 "nbformat": 4,
 "nbformat_minor": 2
}
