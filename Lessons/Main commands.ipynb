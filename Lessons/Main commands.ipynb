{
 "cells": [
  {
   "cell_type": "code",
   "execution_count": null,
   "metadata": {},
   "outputs": [],
   "source": [
    "# Работа с git \n",
    ">> git config --global user.name \"Your Name\"\n",
    ">> git config --global user.email \"your_email@whatever.com\"\n",
    ">> git init\n",
    ">> git status\n",
    ">> git add '*.py'\n",
    ">> git commit -m \"add seminar 2 tasks\"\n",
    ">> git remote add origin https://github.com/Yorko/mccme_python_tasks.git\n",
    ">> git push -u origin master\n",
    ">> git log\n",
    ">> git checkout seminar3/3P_3551_sum_factorials.py \"возвращаемся к последней версии файла\"\n",
    ">> git checkout -b develop \"добавляем ветку\"\n",
    ">> git checkout master \"переключаем ветку\"\n",
    ">> git merge develop \"мердж ветки develop в мастер\""
   ]
  }
 ],
 "metadata": {
  "kernelspec": {
   "display_name": "Python 3",
   "language": "python",
   "name": "python3"
  },
  "language_info": {
   "codemirror_mode": {
    "name": "ipython",
    "version": 3
   },
   "file_extension": ".py",
   "mimetype": "text/x-python",
   "name": "python",
   "nbconvert_exporter": "python",
   "pygments_lexer": "ipython3",
   "version": "3.7.3"
  }
 },
 "nbformat": 4,
 "nbformat_minor": 2
}
