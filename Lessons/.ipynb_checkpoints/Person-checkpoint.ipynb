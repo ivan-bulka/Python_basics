{
 "cells": [
  {
   "cell_type": "code",
   "execution_count": 1,
   "metadata": {},
   "outputs": [],
   "source": [
    "class Person():\n",
    "        __name = \"n/a\"\n",
    "        __age = 0\n",
    "        \n",
    "        def set_name(self, n):\n",
    "            self.__name = n\n",
    "            \n",
    "        def set_age(self, a):\n",
    "            self._age = a\n",
    "            \n",
    "        def description_of_person(self):\n",
    "            print(\"--------------\")\n",
    "            print(\"/ Hi! My name is \", self._name)\n",
    "            print(\"/ Hi! I'm \", self._age, \" years old\")"
   ]
  },
  {
   "cell_type": "code",
   "execution_count": null,
   "metadata": {},
   "outputs": [],
   "source": []
  }
 ],
 "metadata": {
  "kernelspec": {
   "display_name": "Python 3",
   "language": "python",
   "name": "python3"
  },
  "language_info": {
   "codemirror_mode": {
    "name": "ipython",
    "version": 3
   },
   "file_extension": ".py",
   "mimetype": "text/x-python",
   "name": "python",
   "nbconvert_exporter": "python",
   "pygments_lexer": "ipython3",
   "version": "3.7.3"
  }
 },
 "nbformat": 4,
 "nbformat_minor": 2
}
