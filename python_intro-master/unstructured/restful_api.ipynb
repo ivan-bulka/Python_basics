{
 "cells": [
  {
   "cell_type": "markdown",
   "metadata": {},
   "source": [
    "<center>\n",
    "# MLClass. \"Прикладной анализ данных\"\n",
    "# Модуль \"Инструментарий Data Science\"\n",
    "<img src=\"../img/mlclass_logo.jpg\" height=\"240\" width=\"240\">\n",
    "\n",
    "## Автор материала: Сергей Скрипко\n",
    "</center>\n",
    "Материал распространяется на условиях лицензии <a href=\"http://creativecommons.org/licenses/by-sa/4.0/\">Creative Commons Attribution-Share Alike 4.0</a>. Можно использовать в любых целях, но с обязательным упоминанием автора курса и аффилиации."
   ]
  },
  {
   "cell_type": "markdown",
   "metadata": {},
   "source": [
    "# Урок 6. RESTful API"
   ]
  },
  {
   "cell_type": "markdown",
   "metadata": {},
   "source": [
    "## 1. Что это и зачем нужно\n",
    "\n",
    "С точки зрения информатики каждая функция и метод представляет собой некоторую коробку или функцию с входящими и исходящими данными. На данный момент множество сервисов вроде Google, Twitter, Github, Вконтакте, Facebook, Instagram и предоставляет доступ к своим данным по похожей схеме. На вход принимается обычный http-запрос, в качестве выхода все тот же привычный http-ответ.\n",
    "Объясню на картинках"
   ]
  },
  {
   "cell_type": "markdown",
   "metadata": {},
   "source": [
    "Также как часть информации вконтакте доступна без логина, многие API дают доступ к некоторым данным без каких-либо авторизаций. К примеру можно узнать имя и фамилию человека по id:\n",
    "<img src=\"../img/intro/vk-browser.png\" height=\"600\" width=\"800\">\n",
    "\n",
    "Посмотреть его подписчиков, которые не в друзьях:\n",
    "<img src=\"../img/intro/vk2.png\" height=\"500\" width=\"600\">\n",
    "\n",
    "И увидеть, что это там много \"мертвых собак\"\n",
    "<img src=\"../img/intro/vk3.png\" height=\"500\" width=\"600\">"
   ]
  },
  {
   "cell_type": "markdown",
   "metadata": {
    "collapsed": false
   },
   "source": [
    "Здесь вся необходимая входящая информация лежит в урле, как несложно заметить. Причем у API вконтакта на первом скриншоте мы используем функцию users.get, и передаем туда параметром id пользователя. Вообще говоря, синтаксис похож на вызов функции в Python, у входящего параметра есть название и передаваемое значение.\n",
    "Однако обойтись одним урлом получается не всегда. К примеру так не получится загрузить картинку с рукописной цифрой для ее распознавания на стороннем сервисе. Во многих случаях входящие данные передаются не в хедере запроса, а в теле с помощью POST-запроса. Тогда протестировать работу API до написания кода можно несколькими способами:\n",
    "\n",
    "<img src=\"../img/intro/text-sent-request.png\" height=\"600\" width=\"600\">\n",
    "\n",
    "И на это мы получим следующий ответ от сервера\n",
    "<img src=\"../img/intro/text-sent-response.png\" height=\"400\" width=\"400\">\n",
    "\n",
    "Можно обойтись и средствами локальной машины, если ваша командная строка располагает инструментом \"curl\"\n",
    "<img src=\"../img/intro/curl.png\" height=\"500\" width=\"1000\">"
   ]
  },
  {
   "cell_type": "code",
   "execution_count": 2,
   "metadata": {
    "collapsed": false,
    "scrolled": false
   },
   "outputs": [
    {
     "ename": "SyntaxError",
     "evalue": "invalid syntax (<ipython-input-2-aeb630e116cd>, line 1)",
     "output_type": "error",
     "traceback": [
      "\u001b[1;36m  File \u001b[1;32m\"<ipython-input-2-aeb630e116cd>\"\u001b[1;36m, line \u001b[1;32m1\u001b[0m\n\u001b[1;33m    pip install unirest\u001b[0m\n\u001b[1;37m              ^\u001b[0m\n\u001b[1;31mSyntaxError\u001b[0m\u001b[1;31m:\u001b[0m invalid syntax\n"
     ]
    }
   ],
   "source": [
    "pip install unirest"
   ]
  },
  {
   "cell_type": "markdown",
   "metadata": {
    "collapsed": false
   },
   "source": [
    "https://www.publicapis.com/"
   ]
  }
 ],
 "metadata": {
  "kernelspec": {
   "display_name": "Python 2",
   "language": "python",
   "name": "python2"
  },
  "language_info": {
   "codemirror_mode": {
    "name": "ipython",
    "version": 2
   },
   "file_extension": ".py",
   "mimetype": "text/x-python",
   "name": "python",
   "nbconvert_exporter": "python",
   "pygments_lexer": "ipython2",
   "version": "2.7.10"
  },
  "name": "4_Functions.ipynb"
 },
 "nbformat": 4,
 "nbformat_minor": 0
}
