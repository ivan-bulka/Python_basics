{
 "cells": [
  {
   "cell_type": "markdown",
   "metadata": {},
   "source": [
    "# Пьяница\n",
    "В игре в пьяницу карточная колода раздается поровну двум игрокам. Далее они вскрывают по одной верхней карте, и тот, чья карта старше, забирает себе обе вскрытые карты, которые кладутся под низ его колоды. Тот, кто остается без карт – проигрывает.\n",
    "\n",
    "Для простоты будем считать, что все карты различны по номиналу, а также, что самая младшая карта побеждает самую старшую карту (\"шестерка берет туза\").\n",
    "\n",
    "Игрок, который забирает себе карты, сначала кладет под низ своей колоды карту первого игрока, затем карту второго игрока (то есть карта второго игрока оказывается внизу колоды).\n",
    "\n",
    "Напишите программу, которая моделирует игру в пьяницу и определяет, кто выигрывает. В игре участвует 10 карт, имеющих значения от 0 до 9, большая карта побеждает меньшую, карта со значением 0 побеждает карту 9.\n",
    "\n",
    "# Входные данные\n",
    "\n",
    "Программа получает на вход две строки: первая строка содержит 5 карт первого игрока, вторая – 5 карт второго игрока. Карты перечислены сверху вниз, то есть каждая строка начинается с той карты, которая будет открыта первой.\n",
    "\n",
    "# Выходные данные\n",
    "\n",
    "Программа должна определить, кто выигрывает при данной раздаче, и вывести слово first или second, после чего вывести количество ходов, сделанных до выигрыша. Если на протяжении  106  ходов игра не заканчивается, программа должна вывести слово botva."
   ]
  },
  {
   "cell_type": "code",
   "execution_count": 4,
   "metadata": {},
   "outputs": [
    {
     "name": "stdout",
     "output_type": "stream",
     "text": [
      "1 3 5 6 1 \n",
      "2 2 4 9 8\n",
      "second 13\n"
     ]
    }
   ],
   "source": [
    "from queue import Queue\n",
    "\n",
    "first_player_cards = Queue()\n",
    "second_player_cards = Queue()\n",
    "\n",
    "for num in input().strip().split():\n",
    "    first_player_cards.put(int(num))\n",
    "\n",
    "for num in input().strip().split():\n",
    "    second_player_cards.put(int(num))\n",
    "\n",
    "def beats(card1, card2):\n",
    "    \"\"\"\n",
    "    If card1 beats card2\n",
    "    \"\"\"\n",
    "    if abs(card1-card2)==9:\n",
    "        return card1<card2\n",
    "    else:\n",
    "        return card1>card2\n",
    "\n",
    "num_rounds = 0\n",
    "\n",
    "while not first_player_cards.empty() and not second_player_cards.empty():\n",
    "    if num_rounds >=pow(10,6):\n",
    "        print(\"botva\")\n",
    "        break \n",
    "    card1 = first_player_cards.get()\n",
    "    card2 = second_player_cards.get()\n",
    "    \n",
    "    if beats(card1, card2):\n",
    "        first_player_cards.put(card1)\n",
    "        first_player_cards.put(card2)\n",
    "    elif beats(card2, card1):\n",
    "        second_player_cards.put(card1)\n",
    "        second_player_cards.put(card2)\n",
    "    num_rounds +=1\n",
    "else:\n",
    "    if not first_player_cards.empty():\n",
    "        print(\"first\", num_rounds, sep = \" \")\n",
    "    elif not second_player_cards.empty():\n",
    "        print(\"second\", num_rounds, sep = \" \")"
   ]
  },
  {
   "cell_type": "code",
   "execution_count": 5,
   "metadata": {},
   "outputs": [],
   "source": [
    "Queue?"
   ]
  },
  {
   "cell_type": "markdown",
   "metadata": {},
   "source": [
    "# Функции"
   ]
  },
  {
   "cell_type": "code",
   "execution_count": 1,
   "metadata": {},
   "outputs": [
    {
     "name": "stdout",
     "output_type": "stream",
     "text": [
      "Populating the interactive namespace from numpy and matplotlib\n"
     ]
    },
    {
     "data": {
      "text/plain": [
       "[<matplotlib.lines.Line2D at 0x1e118222eb8>]"
      ]
     },
     "execution_count": 1,
     "metadata": {},
     "output_type": "execute_result"
    },
    {
     "data": {
      "image/png": "[encoded data removed]",
      "text/plain": [
       "<Figure size 432x288 with 1 Axes>"
      ]
     },
     "metadata": {
      "needs_background": "light"
     },
     "output_type": "display_data"
    }
   ],
   "source": [
    "%pylab inline\n",
    "# from matplotlib import pylab as plt\n",
    "from math import sin\n",
    "\n",
    "x = range(1000)\n",
    "y = [sin(i / 100) for i in x]\n",
    "\n",
    "plot(x, y)\n",
    "# plot(x, y, color=\"green\")\n",
    "# help(plot)"
   ]
  },
  {
   "cell_type": "code",
   "execution_count": 2,
   "metadata": {},
   "outputs": [
    {
     "name": "stdout",
     "output_type": "stream",
     "text": [
      "<function make_incrementor.<locals>.<lambda> at 0x000001E117F757B8>\n",
      "44\n"
     ]
    }
   ],
   "source": [
    "def make_incrementor(n):\n",
    "    return lambda x: x + n\n",
    "\n",
    "f = make_incrementor(42)\n",
    "print(f)\n",
    "\n",
    "print(f(2))"
   ]
  },
  {
   "cell_type": "code",
   "execution_count": null,
   "metadata": {},
   "outputs": [],
   "source": [
    "# Пример применения одной функции ко всем элементам списка"
   ]
  },
  {
   "cell_type": "code",
   "execution_count": 3,
   "metadata": {},
   "outputs": [
    {
     "name": "stdout",
     "output_type": "stream",
     "text": [
      "<map object at 0x000001E11829B080>\n"
     ]
    },
    {
     "data": {
      "text/plain": [
       "[45200, 33900, 28250, 47460]"
      ]
     },
     "execution_count": 3,
     "metadata": {},
     "output_type": "execute_result"
    }
   ],
   "source": [
    "salaries = [40000, 30000, 25000, 42000]\n",
    "salaries_indexed = map(lambda sal: sal * 1.13, salaries)\n",
    "print(salaries_indexed)\n",
    "[round(sal) for sal in salaries_indexed]"
   ]
  },
  {
   "cell_type": "code",
   "execution_count": null,
   "metadata": {},
   "outputs": [],
   "source": [
    "# Пример фильтрации списка"
   ]
  },
  {
   "cell_type": "code",
   "execution_count": 4,
   "metadata": {},
   "outputs": [
    {
     "name": "stdout",
     "output_type": "stream",
     "text": [
      "<filter object at 0x000001E11828B320>\n"
     ]
    },
    {
     "data": {
      "text/plain": [
       "[40000, 42000]"
      ]
     },
     "execution_count": 4,
     "metadata": {},
     "output_type": "execute_result"
    }
   ],
   "source": [
    "salaries = [40000, 30000, 25000, 42000]\n",
    "filtered_salaries = filter(lambda sal: sal > 30000, \n",
    "                           salaries)\n",
    "print(filtered_salaries)\n",
    "[sal for sal in filtered_salaries]"
   ]
  },
  {
   "cell_type": "code",
   "execution_count": null,
   "metadata": {},
   "outputs": [],
   "source": [
    "# Генератор"
   ]
  },
  {
   "cell_type": "code",
   "execution_count": 5,
   "metadata": {},
   "outputs": [
    {
     "name": "stdout",
     "output_type": "stream",
     "text": [
      "45\n"
     ]
    }
   ],
   "source": [
    "def firstn(n):\n",
    "    num, nums = 0, []\n",
    "    while num < n:\n",
    "        nums.append(num)\n",
    "        num += 1\n",
    "    return nums\n",
    "\n",
    "sum_of_first_n = sum(firstn(10))\n",
    "print(sum_of_first_n)"
   ]
  },
  {
   "cell_type": "code",
   "execution_count": null,
   "metadata": {},
   "outputs": [],
   "source": [
    "# Сокращенная нотация списков"
   ]
  },
  {
   "cell_type": "code",
   "execution_count": 7,
   "metadata": {},
   "outputs": [
    {
     "name": "stdout",
     "output_type": "stream",
     "text": [
      "[0, 2, 4, 6, 8, 10, 12, 14, 16, 18, 20, 22, 24, 26, 28, 30, 32, 34, 36, 38, 40, 42, 44, 46, 48, 50, 52, 54, 56, 58, 60, 62, 64, 66, 68, 70, 72, 74, 76, 78, 80, 82, 84, 86, 88, 90, 92, 94, 96, 98, 100]\n"
     ]
    }
   ],
   "source": [
    "doubles = [2 * n for n in range(51)]\n",
    "print(doubles)"
   ]
  },
  {
   "cell_type": "code",
   "execution_count": 8,
   "metadata": {},
   "outputs": [
    {
     "name": "stdout",
     "output_type": "stream",
     "text": [
      "<generator object <genexpr> at 0x000001E117F66318>\n",
      "1, 4, 9, "
     ]
    }
   ],
   "source": [
    "numbers = (1, 2, 3, 4, 5)\n",
    "squares_under_10 = (number * number \n",
    "                    for number in numbers \n",
    "                    if number * number < 10)\n",
    "print(squares_under_10)\n",
    "for i in squares_under_10:\n",
    "    print(i, end=', ')"
   ]
  },
  {
   "cell_type": "code",
   "execution_count": null,
   "metadata": {},
   "outputs": [],
   "source": [
    "# Факториал чисел"
   ]
  },
  {
   "cell_type": "code",
   "execution_count": 43,
   "metadata": {},
   "outputs": [],
   "source": [
    "def factorial(n):\n",
    "    fact = 1\n",
    "    for i in range(1,n+1):\n",
    "        fact = fact*i\n",
    "    return(fact)"
   ]
  },
  {
   "cell_type": "code",
   "execution_count": 45,
   "metadata": {},
   "outputs": [
    {
     "data": {
      "text/plain": [
       "24"
      ]
     },
     "execution_count": 45,
     "metadata": {},
     "output_type": "execute_result"
    }
   ],
   "source": [
    "factorial(4)"
   ]
  },
  {
   "cell_type": "code",
   "execution_count": 38,
   "metadata": {},
   "outputs": [
    {
     "name": "stdout",
     "output_type": "stream",
     "text": [
      "1\n",
      "2\n",
      "3\n",
      "4\n",
      "5\n",
      "6\n",
      "7\n",
      "8\n",
      "9\n"
     ]
    }
   ],
   "source": [
    "d = range(1,10)\n",
    "for i in d:\n",
    "    print(i)"
   ]
  },
  {
   "cell_type": "code",
   "execution_count": null,
   "metadata": {},
   "outputs": [],
   "source": [
    "# Напишите функцию min4(a, b, c, d), вычисляющую минимум четырех чисел, которая \n",
    "# не содержит инструкции if, а использует стандартную функцию min. \n",
    "# Считайте четыре целых числа и выведите их минимум."
   ]
  },
  {
   "cell_type": "code",
   "execution_count": 61,
   "metadata": {},
   "outputs": [
    {
     "name": "stdout",
     "output_type": "stream",
     "text": [
      "Введите 4 числа1,5,7,8\n",
      "1\n"
     ]
    }
   ],
   "source": [
    "def minimum(a, b, c, d):\n",
    "    minim = min (min(a,b), min(b,c))\n",
    "    return(minim)\n",
    "a, b, c, d = [int(i) for i in input(\"Введите 4 числа\").strip().split(\",\")]\n",
    "print(minimum(a, b, c, d))"
   ]
  },
  {
   "cell_type": "code",
   "execution_count": 63,
   "metadata": {},
   "outputs": [
    {
     "data": {
      "text/plain": [
       "2"
      ]
     },
     "execution_count": 63,
     "metadata": {},
     "output_type": "execute_result"
    }
   ],
   "source": [
    "minimum(2, 5, 7, 1)"
   ]
  },
  {
   "cell_type": "code",
   "execution_count": null,
   "metadata": {},
   "outputs": [],
   "source": [
    "# Даны два действительных числа x и y. Проверьте, принадлежит ли точка с координатами (xy) заштрихованному \n",
    "# квадрату (включая его границу). Если точка принадлежит квадрату, выведите слово YES, иначе выведите слово NO. \n",
    "# На рисунке сетка проведена с шагом 1.\n",
    "# Решение должно содержать функцию IsPointInSquare(x, y), возвращающую True, если точка принадлежит квадрату и False, \n",
    "# если не принадлежит. Основная программа должна считать координаты точки, вызвать функцию  IsPointInSquare\n",
    "# и в зависимости от возвращенного значения\n",
    "# вывести на экран необходимое сообщение.\n",
    "# Функция IsPointInSquare не должна содержать инструкцию if."
   ]
  },
  {
   "cell_type": "code",
   "execution_count": 81,
   "metadata": {},
   "outputs": [
    {
     "name": "stdout",
     "output_type": "stream",
     "text": [
      "0.4,0.3\n",
      "YES\n"
     ]
    }
   ],
   "source": [
    "def IsPointInSquare(x,y):\n",
    "    return y >= abs(x)-1 and y <= 1-abs(x)\n",
    "x,y = [float(s) for s in input().strip().split(\",\")]\n",
    "print(\"YES\" if IsPointInSquare(x,y)==True else \"NO\")"
   ]
  },
  {
   "cell_type": "code",
   "execution_count": 82,
   "metadata": {},
   "outputs": [
    {
     "data": {
      "text/plain": [
       "False"
      ]
     },
     "execution_count": 82,
     "metadata": {},
     "output_type": "execute_result"
    }
   ],
   "source": [
    "IsPointInSquare(3,6)"
   ]
  },
  {
   "cell_type": "code",
   "execution_count": 84,
   "metadata": {},
   "outputs": [
    {
     "name": "stdout",
     "output_type": "stream",
     "text": [
      "1,5\n",
      "NO\n"
     ]
    }
   ],
   "source": [
    "def IsPointInSquare(x,y):\n",
    "    if  y>= abs(x)-1 and y <= 1-abs(x):\n",
    "        return True\n",
    "    else: return False\n",
    "x,y = [float(s) for s in input().strip().split(\",\")]\n",
    "print(\"YES\" if IsPointInSquare(x,y)==True else \"NO\")"
   ]
  },
  {
   "cell_type": "markdown",
   "metadata": {},
   "source": [
    "for s in input().strip().split(\",\"):\n",
    "    x, y = float(s)"
   ]
  },
  {
   "cell_type": "code",
   "execution_count": 90,
   "metadata": {},
   "outputs": [
    {
     "name": "stdout",
     "output_type": "stream",
     "text": [
      "1,6\n"
     ]
    },
    {
     "ename": "TypeError",
     "evalue": "'list' object cannot be interpreted as an integer",
     "output_type": "error",
     "traceback": [
      "\u001b[1;31m---------------------------------------------------------------------------\u001b[0m",
      "\u001b[1;31mTypeError\u001b[0m                                 Traceback (most recent call last)",
      "\u001b[1;32m<ipython-input-90-85955dc0f7b9>\u001b[0m in \u001b[0;36m<module>\u001b[1;34m\u001b[0m\n\u001b[0;32m      3\u001b[0m         \u001b[1;32mreturn\u001b[0m \u001b[1;32mTrue\u001b[0m\u001b[1;33m\u001b[0m\u001b[1;33m\u001b[0m\u001b[0m\n\u001b[0;32m      4\u001b[0m     \u001b[1;32melse\u001b[0m\u001b[1;33m:\u001b[0m \u001b[1;32mreturn\u001b[0m \u001b[1;32mFalse\u001b[0m\u001b[1;33m\u001b[0m\u001b[1;33m\u001b[0m\u001b[0m\n\u001b[1;32m----> 5\u001b[1;33m \u001b[1;32mfor\u001b[0m \u001b[0ms\u001b[0m \u001b[1;32min\u001b[0m \u001b[0mrange\u001b[0m\u001b[1;33m(\u001b[0m\u001b[0minput\u001b[0m\u001b[1;33m(\u001b[0m\u001b[1;33m)\u001b[0m\u001b[1;33m.\u001b[0m\u001b[0mstrip\u001b[0m\u001b[1;33m(\u001b[0m\u001b[1;33m)\u001b[0m\u001b[1;33m.\u001b[0m\u001b[0msplit\u001b[0m\u001b[1;33m(\u001b[0m\u001b[1;34m\",\"\u001b[0m\u001b[1;33m)\u001b[0m\u001b[1;33m)\u001b[0m\u001b[1;33m:\u001b[0m\u001b[1;33m\u001b[0m\u001b[1;33m\u001b[0m\u001b[0m\n\u001b[0m\u001b[0;32m      6\u001b[0m     \u001b[0mx\u001b[0m\u001b[1;33m,\u001b[0m \u001b[0my\u001b[0m \u001b[1;33m=\u001b[0m \u001b[0mfloat\u001b[0m\u001b[1;33m(\u001b[0m\u001b[0ms\u001b[0m\u001b[1;33m)\u001b[0m\u001b[1;33m\u001b[0m\u001b[1;33m\u001b[0m\u001b[0m\n\u001b[0;32m      7\u001b[0m \u001b[0mprint\u001b[0m\u001b[1;33m(\u001b[0m\u001b[1;34m\"YES\"\u001b[0m \u001b[1;32mif\u001b[0m \u001b[0mIsPointInSquare\u001b[0m\u001b[1;33m(\u001b[0m\u001b[0mx\u001b[0m\u001b[1;33m,\u001b[0m\u001b[0my\u001b[0m\u001b[1;33m)\u001b[0m\u001b[1;33m==\u001b[0m\u001b[1;32mTrue\u001b[0m \u001b[1;32melse\u001b[0m \u001b[1;34m\"NO\"\u001b[0m\u001b[1;33m)\u001b[0m\u001b[1;33m\u001b[0m\u001b[1;33m\u001b[0m\u001b[0m\n",
      "\u001b[1;31mTypeError\u001b[0m: 'list' object cannot be interpreted as an integer"
     ]
    }
   ],
   "source": [
    "def IsPointInSquare(x,y):\n",
    "    if  y>= abs(x)-1 and y <= 1-abs(x):\n",
    "        return True\n",
    "    else: return False\n",
    "for s in input().strip().split(\",\"):\n",
    "    x, y = float(s)\n",
    "print(\"YES\" if IsPointInSquare(x,y)==True else \"NO\")"
   ]
  },
  {
   "cell_type": "markdown",
   "metadata": {},
   "source": [
    "# Рeкурсия - это фукция, которая сама себя в теле вызывает"
   ]
  },
  {
   "cell_type": "code",
   "execution_count": null,
   "metadata": {},
   "outputs": [],
   "source": [
    "# Обязательно надо указывать условия прерывания цыкла "
   ]
  },
  {
   "cell_type": "code",
   "execution_count": 93,
   "metadata": {},
   "outputs": [
    {
     "name": "stdout",
     "output_type": "stream",
     "text": [
      "58.5 µs ± 2.37 µs per loop (mean ± std. dev. of 7 runs, 10000 loops each)\n"
     ]
    }
   ],
   "source": [
    "%timeit factorial(400)"
   ]
  },
  {
   "cell_type": "code",
   "execution_count": 94,
   "metadata": {},
   "outputs": [],
   "source": [
    "def factorial_recur(n):\n",
    "    if n==1:\n",
    "        return 1\n",
    "    else: \n",
    "        return n*factorial_recur(n-1)"
   ]
  },
  {
   "cell_type": "code",
   "execution_count": 95,
   "metadata": {},
   "outputs": [
    {
     "name": "stdout",
     "output_type": "stream",
     "text": [
      "104 µs ± 3.6 µs per loop (mean ± std. dev. of 7 runs, 10000 loops each)\n"
     ]
    }
   ],
   "source": [
    "%timeit factorial_recur(400)"
   ]
  },
  {
   "cell_type": "code",
   "execution_count": 96,
   "metadata": {},
   "outputs": [
    {
     "name": "stdout",
     "output_type": "stream",
     "text": [
      "1 1\n",
      "2 2\n",
      "3 6\n",
      "4 24\n",
      "5 120\n",
      "6 720\n",
      "7 5040\n",
      "8 40320\n",
      "9 362880\n"
     ]
    }
   ],
   "source": [
    "for i, k in enumerate(range(1,10)):\n",
    "    print(i+1, factorial_recur(k))"
   ]
  },
  {
   "cell_type": "code",
   "execution_count": 97,
   "metadata": {},
   "outputs": [
    {
     "name": "stdout",
     "output_type": "stream",
     "text": [
      "1,1,2,3,5,8,13,21,34,55,89,"
     ]
    }
   ],
   "source": [
    "def fib_recur(n):\n",
    "    if n in (0,1):\n",
    "        return 1\n",
    "    else:\n",
    "        return fib_recur(n-1) + fib_recur(n-2)\n",
    "for i in range(11):\n",
    "    print(fib_recur(i), end=\",\")"
   ]
  },
  {
   "cell_type": "code",
   "execution_count": null,
   "metadata": {},
   "outputs": [],
   "source": [
    "# Для исчисления Фибоначчи, рекурсия не эффективная, потому что много лишних действий "
   ]
  },
  {
   "cell_type": "markdown",
   "metadata": {},
   "source": [
    "# Quick sort "
   ]
  },
  {
   "cell_type": "code",
   "execution_count": 100,
   "metadata": {},
   "outputs": [],
   "source": [
    "def qs(a_list):\n",
    "    if len(a_list)<=1:\n",
    "        return a_list\n",
    "    else:\n",
    "        el0 = a_list[0]\n",
    "        left, right = [], [] \n",
    "        for elem in a_list[1:]:\n",
    "            if elem < el0:\n",
    "                left.append(elem)\n",
    "            else:\n",
    "                right.append(elem)\n",
    "    return qs(left) + [el0] + qs(right)"
   ]
  },
  {
   "cell_type": "code",
   "execution_count": 101,
   "metadata": {},
   "outputs": [
    {
     "data": {
      "text/plain": [
       "[1, 1, 4, 5, 6, 6]"
      ]
     },
     "execution_count": 101,
     "metadata": {},
     "output_type": "execute_result"
    }
   ],
   "source": [
    "qs([1,5,6,1,4,6,])"
   ]
  },
  {
   "cell_type": "code",
   "execution_count": 1,
   "metadata": {},
   "outputs": [],
   "source": [
    "from random import choice\n",
    "\n",
    "def quick_sort(a_list):\n",
    "    if len(a_list) <= 1:\n",
    "        return a_list\n",
    "    pivot = choice(range(len(a_list)))\n",
    "    return quick_sort([i for i in a_list[:pivot] + a_list[pivot+1:] \n",
    "                       if i < a_list[pivot]]) + [a_list[pivot]] + \\\n",
    "           quick_sort([i for i in a_list[:pivot] + a_list[pivot+1:] \n",
    "                       if i >= a_list[pivot]])"
   ]
  },
  {
   "cell_type": "code",
   "execution_count": 3,
   "metadata": {},
   "outputs": [
    {
     "name": "stdout",
     "output_type": "stream",
     "text": [
      "16.5 µs ± 1.44 µs per loop (mean ± std. dev. of 7 runs, 100000 loops each)\n"
     ]
    }
   ],
   "source": [
    "%timeit quick_sort([1,6,8,9,3,10,54])"
   ]
  },
  {
   "cell_type": "code",
   "execution_count": null,
   "metadata": {},
   "outputs": [],
   "source": [
    "# Дано действительное положительное число a и целое неотрицательное число n. Вычислите a**n не используя циклы и стандартную функцию pow, а используя рекуррентное соотношение an=aan−1.\n",
    "# Решение оформите в виде функции power(a, n)."
   ]
  },
  {
   "cell_type": "code",
   "execution_count": 1,
   "metadata": {},
   "outputs": [],
   "source": [
    "from sys import setrecursionlimit\n",
    "setrecursionlimit(1000000)\n",
    "def power(a,n):\n",
    "    if n==0:\n",
    "        return 1\n",
    "    else:\n",
    "        return a*power(a,n-1)"
   ]
  },
  {
   "cell_type": "code",
   "execution_count": 3,
   "metadata": {},
   "outputs": [
    {
     "name": "stdout",
     "output_type": "stream",
     "text": [
      "4096\n"
     ]
    }
   ],
   "source": [
    "print(power(4,6))"
   ]
  },
  {
   "cell_type": "code",
   "execution_count": null,
   "metadata": {},
   "outputs": [],
   "source": [
    "# Дано натуральное число x1. Проверьте, является ли оно простым. Программа должна вывести слово YES, \n",
    "# если число простое и NO, если число составное.\n",
    "# Решение оформите в виде функции IsPrime(x), которая возвращает  True для простых чисел и \n",
    "# False для составных чисел. Решение должно иметь сложность O(x) ."
   ]
  },
  {
   "cell_type": "code",
   "execution_count": 16,
   "metadata": {},
   "outputs": [
    {
     "name": "stdout",
     "output_type": "stream",
     "text": [
      "Введите x 5\n",
      "YES\n"
     ]
    }
   ],
   "source": [
    "x = int(input(\"Введите x \"))\n",
    "def simple_number(x):\n",
    "    if x==2:\n",
    "            return True\n",
    "    else:\n",
    "        for i in range(2,x):    \n",
    "            if x%i==0:\n",
    "                return False\n",
    "                break\n",
    "            else:\n",
    "                return True\n",
    "print(\"YES\" if simple_number(x)== True else \"NO\")"
   ]
  },
  {
   "cell_type": "code",
   "execution_count": null,
   "metadata": {},
   "outputs": [],
   "source": [
    "# По данным числам n и k (0kn) вычислите Сkn . Для решения используйте рекуррентное соотношение Cnk=Cn−1k−1+Ckn−1.\n",
    "# Решение оформите в виде функции C(n, k)."
   ]
  },
  {
   "cell_type": "code",
   "execution_count": 1,
   "metadata": {},
   "outputs": [],
   "source": [
    "from sys import setrecursionlimit\n",
    "setrecursionlimit(1000000)\n",
    "def C_n_k(n,k):\n",
    "    if n==k:\n",
    "        return 1\n",
    "    elif k==0:\n",
    "        return 0\n",
    "    else:\n",
    "        result = C_n_k(n-1,n-1) + C_n_k(n-1,k)\n",
    "        return result"
   ]
  },
  {
   "cell_type": "code",
   "execution_count": 5,
   "metadata": {},
   "outputs": [
    {
     "name": "stdout",
     "output_type": "stream",
     "text": [
      "5\n"
     ]
    }
   ],
   "source": [
    "print(C_n_k(8,4))"
   ]
  },
  {
   "cell_type": "code",
   "execution_count": 3,
   "metadata": {},
   "outputs": [],
   "source": [
    "from math import factorial as fact"
   ]
  },
  {
   "cell_type": "code",
   "execution_count": 6,
   "metadata": {},
   "outputs": [
    {
     "data": {
      "text/plain": [
       "8.0"
      ]
     },
     "execution_count": 6,
     "metadata": {},
     "output_type": "execute_result"
    }
   ],
   "source": [
    "fact(8)/fact(7)/fact(1)"
   ]
  },
  {
   "cell_type": "code",
   "execution_count": null,
   "metadata": {},
   "outputs": [],
   "source": [
    "# Напишите рекурсивную функцию sum(a, b), возвращающую сумму двух целых неотрицательных чисел. \n",
    "# Из всех арифметических операций допускаются только +1 и -1. Также нельзя использовать циклы."
   ]
  },
  {
   "cell_type": "code",
   "execution_count": 12,
   "metadata": {},
   "outputs": [],
   "source": [
    "def sum_recur(a,b):\n",
    "    if a==0:\n",
    "        return b\n",
    "    if b==0:\n",
    "        return a\n",
    "    else: \n",
    "        sum = sum_recur(a+1, b-1)\n",
    "        return sum"
   ]
  },
  {
   "cell_type": "code",
   "execution_count": 13,
   "metadata": {},
   "outputs": [
    {
     "name": "stdout",
     "output_type": "stream",
     "text": [
      "7\n"
     ]
    }
   ],
   "source": [
    "print(sum_recur(2,5))"
   ]
  },
  {
   "cell_type": "code",
   "execution_count": null,
   "metadata": {},
   "outputs": [],
   "source": [
    "# Дано натуральное число N и последовательность из N элементов. Требуется вывести эту последовательность \n",
    "# в обратном порядке."
   ]
  },
  {
   "cell_type": "code",
   "execution_count": 29,
   "metadata": {},
   "outputs": [
    {
     "name": "stdout",
     "output_type": "stream",
     "text": [
      "234 456 67 89\n",
      "456 234 89 67\n"
     ]
    }
   ],
   "source": [
    "st = [int(x) for x in input().split(' ')]\n",
    "for i in range(0, len(st)-1, 2):\n",
    "    st[i], st[i+1] = st[i+1], st[i]\n",
    "print(*st)"
   ]
  }
 ],
 "metadata": {
  "kernelspec": {
   "display_name": "Python 3",
   "language": "python",
   "name": "python3"
  },
  "language_info": {
   "codemirror_mode": {
    "name": "ipython",
    "version": 3
   },
   "file_extension": ".py",
   "mimetype": "text/x-python",
   "name": "python",
   "nbconvert_exporter": "python",
   "pygments_lexer": "ipython3",
   "version": "3.7.3"
  }
 },
 "nbformat": 4,
 "nbformat_minor": 2
}
