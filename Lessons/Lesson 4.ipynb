{
 "cells": [
  {
   "cell_type": "code",
   "execution_count": 35,
   "metadata": {},
   "outputs": [],
   "source": [
    "class Stack:\n",
    "    def __init_(self):\n",
    "        self.items = []\n",
    "        \n",
    "    def push(self, item):\n",
    "        self.items.append(item)\n",
    "    \n",
    "    def pop(self):\n",
    "        return self.items.pop()"
   ]
  },
  {
   "cell_type": "code",
   "execution_count": 36,
   "metadata": {},
   "outputs": [
    {
     "ename": "AttributeError",
     "evalue": "'Stack' object has no attribute 'items'",
     "output_type": "error",
     "traceback": [
      "\u001b[1;31m---------------------------------------------------------------------------\u001b[0m",
      "\u001b[1;31mAttributeError\u001b[0m                            Traceback (most recent call last)",
      "\u001b[1;32m<ipython-input-36-eed61b333fe9>\u001b[0m in \u001b[0;36m<module>\u001b[1;34m\u001b[0m\n\u001b[0;32m      1\u001b[0m \u001b[0md\u001b[0m \u001b[1;33m=\u001b[0m \u001b[0mStack\u001b[0m\u001b[1;33m(\u001b[0m\u001b[1;33m)\u001b[0m\u001b[1;33m\u001b[0m\u001b[1;33m\u001b[0m\u001b[0m\n\u001b[1;32m----> 2\u001b[1;33m \u001b[0md\u001b[0m\u001b[1;33m.\u001b[0m\u001b[0mpush\u001b[0m\u001b[1;33m(\u001b[0m\u001b[1;34m'hello'\u001b[0m\u001b[1;33m)\u001b[0m\u001b[1;33m\u001b[0m\u001b[1;33m\u001b[0m\u001b[0m\n\u001b[0m\u001b[0;32m      3\u001b[0m \u001b[0md\u001b[0m\u001b[1;33m.\u001b[0m\u001b[0mpush\u001b[0m\u001b[1;33m(\u001b[0m\u001b[1;34m'true'\u001b[0m\u001b[1;33m)\u001b[0m\u001b[1;33m\u001b[0m\u001b[1;33m\u001b[0m\u001b[0m\n\u001b[0;32m      4\u001b[0m \u001b[0mprint\u001b[0m\u001b[1;33m(\u001b[0m\u001b[0ms\u001b[0m\u001b[1;33m.\u001b[0m\u001b[0mpop\u001b[0m\u001b[1;33m(\u001b[0m\u001b[1;33m)\u001b[0m\u001b[1;33m)\u001b[0m\u001b[1;33m\u001b[0m\u001b[1;33m\u001b[0m\u001b[0m\n",
      "\u001b[1;32m<ipython-input-35-b5569cf367b9>\u001b[0m in \u001b[0;36mpush\u001b[1;34m(self, item)\u001b[0m\n\u001b[0;32m      4\u001b[0m \u001b[1;33m\u001b[0m\u001b[0m\n\u001b[0;32m      5\u001b[0m     \u001b[1;32mdef\u001b[0m \u001b[0mpush\u001b[0m\u001b[1;33m(\u001b[0m\u001b[0mself\u001b[0m\u001b[1;33m,\u001b[0m \u001b[0mitem\u001b[0m\u001b[1;33m)\u001b[0m\u001b[1;33m:\u001b[0m\u001b[1;33m\u001b[0m\u001b[1;33m\u001b[0m\u001b[0m\n\u001b[1;32m----> 6\u001b[1;33m         \u001b[0mself\u001b[0m\u001b[1;33m.\u001b[0m\u001b[0mitems\u001b[0m\u001b[1;33m.\u001b[0m\u001b[0mappend\u001b[0m\u001b[1;33m(\u001b[0m\u001b[0mitem\u001b[0m\u001b[1;33m)\u001b[0m\u001b[1;33m\u001b[0m\u001b[1;33m\u001b[0m\u001b[0m\n\u001b[0m\u001b[0;32m      7\u001b[0m \u001b[1;33m\u001b[0m\u001b[0m\n\u001b[0;32m      8\u001b[0m     \u001b[1;32mdef\u001b[0m \u001b[0mpop\u001b[0m\u001b[1;33m(\u001b[0m\u001b[0mself\u001b[0m\u001b[1;33m)\u001b[0m\u001b[1;33m:\u001b[0m\u001b[1;33m\u001b[0m\u001b[1;33m\u001b[0m\u001b[0m\n",
      "\u001b[1;31mAttributeError\u001b[0m: 'Stack' object has no attribute 'items'"
     ]
    }
   ],
   "source": [
    "d = Stack() \n",
    "d.push('hello')\n",
    "d.push('true')\n",
    "print(s.pop())"
   ]
  },
  {
   "cell_type": "code",
   "execution_count": 7,
   "metadata": {},
   "outputs": [],
   "source": [
    "class Stack:\n",
    "     def __init__(self):\n",
    "         self.items = []\n",
    "\n",
    "     def isEmpty(self):\n",
    "         return self.items == []\n",
    "\n",
    "     def push(self, item):\n",
    "         self.items.append(item)\n",
    "\n",
    "     def pop(self):\n",
    "         return self.items.pop()\n",
    "\n",
    "     def peek(self):\n",
    "         return self.items[-1]\n",
    "\n",
    "     def size(self):\n",
    "         return len(self.items)"
   ]
  },
  {
   "cell_type": "code",
   "execution_count": 8,
   "metadata": {},
   "outputs": [
    {
     "name": "stdout",
     "output_type": "stream",
     "text": [
      "true\n",
      "hello\n"
     ]
    }
   ],
   "source": [
    "s = Stack()\n",
    "s.push('hello')\n",
    "s.push('true')\n",
    "print(s.pop())\n",
    "print(s.pop())"
   ]
  },
  {
   "cell_type": "code",
   "execution_count": 15,
   "metadata": {},
   "outputs": [
    {
     "name": "stdout",
     "output_type": "stream",
     "text": [
      "Vurdalak Level Is5 Race Is: Ork Healts Is100\n",
      "Helo Alexandr start moving...\n",
      "Vurdalak Level Is10 Race Is: Ork Healts Is100\n",
      "The name changed  Ivan\n",
      "Ivan Level Is10 Race Is: Ork Healts Is100\n"
     ]
    }
   ],
   "source": [
    "class Hero():\n",
    "    \"\"\"Class to create heroe for our game\"\"\"\n",
    "    \"\"\"Функции в классе называются методами\"\"\"\n",
    "    def __init__(self, name, level, race):\n",
    "        \"\"\"Initiate our hero\"\"\"\n",
    "        self.name = name\n",
    "        self.level = level\n",
    "        self.race = race\n",
    "        self.health = 100\n",
    "    \n",
    "    def show_hero(self):\n",
    "        \"\"\"Print all parameters of this hero\"\"\"\n",
    "        description = (self.name + \" Level is\" + str(self.level) + \" Race is: \" + self.race + \" Healts is\" \n",
    "                       + str(self.health)).title()\n",
    "        print(description)\n",
    "        \n",
    "    def level_up(self): \n",
    "        \"\"\"Upgrade the leven of hero\"\"\"\n",
    "        self.level +=self.level\n",
    "        \n",
    "    def move(self):\n",
    "        \"\"\"Start moving hero\"\"\"\n",
    "        print(\"Helo \" + self.name + \" start moving...\")\n",
    "        \n",
    "    def name_change(self):\n",
    "        self.name = 'Ivan'\n",
    "        print(\"The name changed \", self.name)\n",
    "        \n",
    "#----------------------------------------------------------      \n",
    "\n",
    "myhero1 = Hero(\"Vurdalak\", 5, \"Ork\")\n",
    "myhero2 = Hero(\"Alexandr\", 5, \"Human\")\n",
    "\n",
    "myhero1.show_hero()\n",
    "myhero2.move()\n",
    "myhero1.level_up()\n",
    "myhero1.show_hero()\n",
    "myhero1.name_change()\n",
    "myhero1.show_hero()"
   ]
  },
  {
   "cell_type": "code",
   "execution_count": 32,
   "metadata": {},
   "outputs": [],
   "source": [
    "class SuperHero(Hero): \n",
    "    \"\"\"Class to create SuperHero\"\"\"\n",
    "    def __init__(self, name, level, race, magiclevel): \n",
    "        \"\"\"Initiate SuperHero\"\"\" \n",
    "        super().__init__(name, level, race)\n",
    "        self.magiclevel = magiclevel\n",
    "        self.magic = 100\n",
    "    \n",
    "    def make_magic(self):\n",
    "        \"\"\"Use magic\"\"\"\n",
    "        self.magic -=10\n",
    "        \n",
    "    def show_hero(self):\n",
    "        \"\"\"Print all parameters of this hero\"\"\"\n",
    "        description = (self.name + \" Level is \" + str(self.level) + \" Race is: \" + self.race + \" Healts is \" \n",
    "                       + str(self.health) + \" Magic is \" + str(self.magic)).title()\n",
    "        print(description)"
   ]
  },
  {
   "cell_type": "code",
   "execution_count": 34,
   "metadata": {},
   "outputs": [
    {
     "name": "stdout",
     "output_type": "stream",
     "text": [
      "Vurdalak Level Is4 Race Is: Ork Healts Is100\n",
      "Alexandr Level Is 5 Race Is: Human Healts Is 100 Magic Is 100\n",
      "Alexandr Level Is 5 Race Is: Human Healts Is 100 Magic Is 90\n"
     ]
    }
   ],
   "source": [
    "myhero = Hero(\"Vurdalak\", 4, \"Ork\")\n",
    "mysuperhero = SuperHero(\"Alexandr\", 5, \"Human\", 200)\n",
    "\n",
    "myhero.show_hero()\n",
    "mysuperhero.show_hero()\n",
    "mysuperhero.make_magic()\n",
    "mysuperhero.show_hero()"
   ]
  },
  {
   "cell_type": "code",
   "execution_count": 47,
   "metadata": {},
   "outputs": [],
   "source": [
    "class Person:\n",
    "        __name = \"n/a\"\n",
    "        __age = 0\n",
    "        \n",
    "        def set_name(self, n):\n",
    "            self.__name = n\n",
    "            \n",
    "        def set_age(self, a):\n",
    "            self.__age = a\n",
    "            \n",
    "        def description_of_person(self):\n",
    "            print(\"--------------\")\n",
    "            print(\"/ Hi! My name is \", self.__name)\n",
    "            print(\"/ Hi! I'm \", self.__age, \" years old\")"
   ]
  },
  {
   "cell_type": "code",
   "execution_count": 51,
   "metadata": {},
   "outputs": [
    {
     "name": "stdout",
     "output_type": "stream",
     "text": [
      "--------------\n",
      "/ Hi! My name is  n/a\n",
      "/ Hi! I'm  0  years old\n"
     ]
    }
   ],
   "source": [
    "person1 = Person()\n",
    "person1.description_of_person()"
   ]
  },
  {
   "cell_type": "code",
   "execution_count": 54,
   "metadata": {},
   "outputs": [
    {
     "name": "stdout",
     "output_type": "stream",
     "text": [
      "--------------\n",
      "/ Hi! My name is  n/a\n",
      "/ Hi! I'm  54  years old\n"
     ]
    }
   ],
   "source": [
    "person2 = Person()\n",
    "person2.set_age(54)\n",
    "person2.description_of_person()"
   ]
  },
  {
   "cell_type": "code",
   "execution_count": null,
   "metadata": {},
   "outputs": [],
   "source": [
    "# Реализовать класс, который позволяет добавлять студентов, удалять и изменять данные о них "
   ]
  },
  {
   "cell_type": "code",
   "execution_count": null,
   "metadata": {},
   "outputs": [],
   "source": [
    "class Students:\n",
    "        \n",
    "        def __init__(self):\n",
    "            self.list = []\n",
    "        \n",
    "        def add_item(self, item):\n",
    "            self.list.append(item)\n",
    "        \n",
    "        def show_item_by_id(self, i):\n",
    "            print(self.list[i])\n",
    "            \n",
    "        def print_all_items(self):\n",
    "            for i in self.list:\n",
    "                print(i)\n",
    "        \n",
    "        def print_size(self):\n",
    "            print(len(self.list))         "
   ]
  },
  {
   "cell_type": "code",
   "execution_count": 40,
   "metadata": {},
   "outputs": [
    {
     "name": "stdout",
     "output_type": "stream",
     "text": [
      "Ivan\n"
     ]
    }
   ],
   "source": [
    "s = Students()\n",
    "s.add_item('Ivan')\n",
    "s.show_item_by_id(0)"
   ]
  },
  {
   "cell_type": "code",
   "execution_count": 41,
   "metadata": {},
   "outputs": [
    {
     "name": "stdout",
     "output_type": "stream",
     "text": [
      "Sasha\n"
     ]
    }
   ],
   "source": [
    "s.add_item('Sasha')\n",
    "s.show_item_by_id(1)"
   ]
  },
  {
   "cell_type": "code",
   "execution_count": 42,
   "metadata": {},
   "outputs": [
    {
     "name": "stdout",
     "output_type": "stream",
     "text": [
      "Ivan\n",
      "Sasha\n"
     ]
    }
   ],
   "source": [
    "s.print_all_items()"
   ]
  },
  {
   "cell_type": "code",
   "execution_count": 43,
   "metadata": {},
   "outputs": [
    {
     "name": "stdout",
     "output_type": "stream",
     "text": [
      "2\n"
     ]
    }
   ],
   "source": [
    "s.print_size()"
   ]
  },
  {
   "cell_type": "code",
   "execution_count": 20,
   "metadata": {},
   "outputs": [],
   "source": [
    "student_1.show_all_students()"
   ]
  },
  {
   "cell_type": "markdown",
   "metadata": {},
   "source": [
    "# Очередь "
   ]
  },
  {
   "cell_type": "code",
   "execution_count": 70,
   "metadata": {},
   "outputs": [],
   "source": [
    "class Queue:\n",
    "    def __init__(self):\n",
    "        self.items = []\n",
    "\n",
    "    def isEmpty(self):\n",
    "        return self.items == []\n",
    "\n",
    "    def enqueue(self, item):\n",
    "        self.items.insert(0,item)\n",
    "\n",
    "    def dequeue(self):\n",
    "        return self.items.pop()\n",
    "\n",
    "    def size(self):\n",
    "        return len(self.items)\n",
    "    \n",
    "    def delete(self):\n",
    "        for i in self.items:\n",
    "            del i"
   ]
  },
  {
   "cell_type": "code",
   "execution_count": 71,
   "metadata": {},
   "outputs": [],
   "source": [
    "d = Queue()"
   ]
  },
  {
   "cell_type": "code",
   "execution_count": 76,
   "metadata": {},
   "outputs": [
    {
     "data": {
      "text/plain": [
       "6"
      ]
     },
     "execution_count": 76,
     "metadata": {},
     "output_type": "execute_result"
    }
   ],
   "source": [
    "d.enqueue('Sasha')\n",
    "d.enqueue('Pasha')\n",
    "d.enqueue('Masha')\n",
    "d.size()"
   ]
  },
  {
   "cell_type": "code",
   "execution_count": 77,
   "metadata": {},
   "outputs": [
    {
     "data": {
      "text/plain": [
       "6"
      ]
     },
     "execution_count": 77,
     "metadata": {},
     "output_type": "execute_result"
    }
   ],
   "source": [
    "d.delete()\n",
    "d.size()"
   ]
  },
  {
   "cell_type": "code",
   "execution_count": 78,
   "metadata": {},
   "outputs": [],
   "source": [
    "d.delete()"
   ]
  },
  {
   "cell_type": "code",
   "execution_count": 79,
   "metadata": {},
   "outputs": [
    {
     "data": {
      "text/plain": [
       "6"
      ]
     },
     "execution_count": 79,
     "metadata": {},
     "output_type": "execute_result"
    }
   ],
   "source": [
    "d.size()"
   ]
  },
  {
   "cell_type": "code",
   "execution_count": 80,
   "metadata": {},
   "outputs": [
    {
     "name": "stdout",
     "output_type": "stream",
     "text": [
      "['Brad', 'Kent', 'Jane', 'Susan', 'David', 'Bill']\n",
      "['Kent']\n",
      "Kent\n"
     ]
    }
   ],
   "source": [
    "def hotPotato(namelist, num):\n",
    "    simqueue = Queue()\n",
    "    for name in namelist:\n",
    "        simqueue.enqueue(name)\n",
    "    \n",
    "    print(simqueue.items)\n",
    "    while simqueue.size() > 1:\n",
    "        for i in range(num):\n",
    "            simqueue.enqueue(simqueue.dequeue())\n",
    "    \n",
    "        simqueue.dequeue()\n",
    "    print(simqueue.items)\n",
    "    return simqueue.dequeue()\n",
    "\n",
    "print(hotPotato([\"Bill\",\"David\",\"Susan\",\"Jane\",\"Kent\",\"Brad\"],1))"
   ]
  },
  {
   "cell_type": "code",
   "execution_count": null,
   "metadata": {},
   "outputs": [],
   "source": [
    "# Пример использования queue - симуляция подтверждения регистрации пользователей на каком-либо ресурсе"
   ]
  },
  {
   "cell_type": "code",
   "execution_count": 81,
   "metadata": {},
   "outputs": [
    {
     "name": "stdout",
     "output_type": "stream",
     "text": [
      "Alex\n",
      "User Alex registered\n",
      "Gori\n",
      "User Gori registered\n",
      "Max\n",
      "User Max registered\n",
      "Sanya\n",
      "User Sanya registered\n",
      "quit\n",
      "Confirming users (FIFO)\n",
      "User Alex confirmed\n",
      "User Gori confirmed\n",
      "User Max confirmed\n",
      "User Sanya confirmed\n"
     ]
    }
   ],
   "source": [
    "from queue import Queue\n",
    "\n",
    "unconfirmed_users_queue = Queue()\n",
    "\n",
    "def user_registration(user):\n",
    "    global unconfirmed_users_queue\n",
    "    unconfirmed_users_queue.put(user)\n",
    "    print(\"User {0} registered\".format(user))\n",
    "    \n",
    "def confirm_users():\n",
    "    print(\"Confirming users (FIFO)\")\n",
    "    global unconfirmed_users_queue\n",
    "    while not unconfirmed_users_queue.empty():\n",
    "        user = unconfirmed_users_queue.get()\n",
    "        print(\"User {0} confirmed\".format(user))\n",
    "\n",
    "def register_several_users(): \n",
    "    user=''\n",
    "\n",
    "    while True:\n",
    "        user = input()\n",
    "        if user == \"quit\":\n",
    "            break\n",
    "        else:\n",
    "            user_registration(user)\n",
    "\n",
    "register_several_users()\n",
    "confirm_users()"
   ]
  },
  {
   "cell_type": "markdown",
   "metadata": {},
   "source": [
    "# Деревья"
   ]
  },
  {
   "cell_type": "code",
   "execution_count": 83,
   "metadata": {},
   "outputs": [],
   "source": [
    "myTree = ['a',['b', ['d'], ['e']], ['c', ['f']], ]"
   ]
  },
  {
   "cell_type": "code",
   "execution_count": 84,
   "metadata": {},
   "outputs": [
    {
     "name": "stdout",
     "output_type": "stream",
     "text": [
      "['a', ['b', ['d'], ['e']], ['c', ['f']]]\n"
     ]
    }
   ],
   "source": [
    "print(myTree)"
   ]
  },
  {
   "cell_type": "code",
   "execution_count": 88,
   "metadata": {},
   "outputs": [
    {
     "name": "stdout",
     "output_type": "stream",
     "text": [
      "root =  a\n",
      "left tree =  ['b', ['d'], ['e']]\n",
      "right tree =  ['c', ['f']]\n",
      "first element in left tree =  ['f']\n"
     ]
    }
   ],
   "source": [
    "print('root = ', myTree[0])\n",
    "print('left tree = ', myTree[1])\n",
    "print('right tree = ', myTree[2])\n",
    "print('first element in left tree = ', myTree[2][1])"
   ]
  },
  {
   "cell_type": "code",
   "execution_count": 126,
   "metadata": {},
   "outputs": [],
   "source": [
    "def BinaryTree(r):\n",
    "    return [r, [], []]\n",
    "\n",
    "def insertLeft(root, newBranch):\n",
    "    t = root.pop(1)\n",
    "    if len(t) > 1:\n",
    "        root.insert(1,[newBranch,t,[]])\n",
    "    else:\n",
    "        root.insert(1,[newBranch, [], []])\n",
    "    return root\n",
    "\n",
    "def insertRight(root, newBranch):\n",
    "    t = root.pop(2)\n",
    "    if len(t) > 1:\n",
    "        root.insert(2,[newBranch,[],t])\n",
    "    else:\n",
    "        root.insert(2,[newBranch,[],[]])\n",
    "    return root\n",
    "\n",
    "def getRootVal(root):\n",
    "    return root[0]\n",
    "\n",
    "def setRootVal(root,newVal):\n",
    "    root[0] = newVal\n",
    "\n",
    "def getLeftChild(root):\n",
    "    return root[1]\n",
    "\n",
    "def getRightChild(root):\n",
    "    return root[2]"
   ]
  },
  {
   "cell_type": "code",
   "execution_count": 127,
   "metadata": {},
   "outputs": [
    {
     "data": {
      "text/plain": [
       "[4, [], []]"
      ]
     },
     "execution_count": 127,
     "metadata": {},
     "output_type": "execute_result"
    }
   ],
   "source": [
    "BinaryTree(4)"
   ]
  },
  {
   "cell_type": "code",
   "execution_count": 128,
   "metadata": {},
   "outputs": [
    {
     "data": {
      "text/plain": [
       "[4, [1, [], []], []]"
      ]
     },
     "execution_count": 128,
     "metadata": {},
     "output_type": "execute_result"
    }
   ],
   "source": [
    "insertLeft(BinaryTree(4), 1)"
   ]
  },
  {
   "cell_type": "code",
   "execution_count": 129,
   "metadata": {},
   "outputs": [
    {
     "data": {
      "text/plain": [
       "[4, [[1, 4, 3], [], []], []]"
      ]
     },
     "execution_count": 129,
     "metadata": {},
     "output_type": "execute_result"
    }
   ],
   "source": [
    "insertLeft(BinaryTree(4), [1, 4,3])"
   ]
  },
  {
   "cell_type": "code",
   "execution_count": 130,
   "metadata": {},
   "outputs": [
    {
     "data": {
      "text/plain": [
       "[4, [[7, 6, 5], [], []], [6]]"
      ]
     },
     "execution_count": 130,
     "metadata": {},
     "output_type": "execute_result"
    }
   ],
   "source": [
    "a = [4, [5], [6]]\n",
    "insertLeft(a, [7, 6, 5])"
   ]
  },
  {
   "cell_type": "code",
   "execution_count": 131,
   "metadata": {},
   "outputs": [
    {
     "data": {
      "text/plain": [
       "[4, [[7, 6, 5], [1, 4, 5, 6], []], 8]"
      ]
     },
     "execution_count": 131,
     "metadata": {},
     "output_type": "execute_result"
    }
   ],
   "source": [
    "b = [4, [1,4,5,6,], 8]\n",
    "insertLeft(b, [7, 6, 5])"
   ]
  },
  {
   "cell_type": "markdown",
   "metadata": {},
   "source": [
    "# Куча"
   ]
  },
  {
   "cell_type": "code",
   "execution_count": 2,
   "metadata": {},
   "outputs": [],
   "source": [
    "global heap\n",
    "global currSize\n",
    "\n",
    "def parent(i): #Получить индекс родителя для i-того элемента\n",
    "    return i/2\n",
    "\n",
    "def left(i): #Получить левый дочерний элемент от i-того\n",
    "    return 2*i\n",
    "\n",
    "def right(i): #Получить правый дочерний элемент от i-того\n",
    "    return (2*i + 1)"
   ]
  },
  {
   "cell_type": "code",
   "execution_count": 3,
   "metadata": {},
   "outputs": [],
   "source": [
    "def swap(a, b): # меняем элемент с индексом a на элемент с индексом b\n",
    "    temp = heap[a]\n",
    "    heap[a] = heap[b]\n",
    "    heap[b] = temp\n",
    "\n",
    "def insert(elem):\n",
    "    global currSize\n",
    "    \n",
    "    index = len(heap)\n",
    "    heap.append(elem)\n",
    "    currSize += 1\n",
    "    par = parent(index)\n",
    "    flag = 0\n",
    "    while flag != 1:\n",
    "        if index == 1: #Дошли до корневого элемента\n",
    "            flag = 1\n",
    "        elif heap[par] > elem: #Если индекс корневого элемента больше индекса нашего элемента - наш элемент на своем месте\n",
    "            flag = 1\n",
    "        else: #Меняем местами родительский элемент с нашим\n",
    "            swap(par, index)\n",
    "            index = par\n",
    "            par = parent(index)\n",
    "            \n",
    "    print(heap)"
   ]
  },
  {
   "cell_type": "code",
   "execution_count": null,
   "metadata": {},
   "outputs": [],
   "source": []
  }
 ],
 "metadata": {
  "kernelspec": {
   "display_name": "Python 3",
   "language": "python",
   "name": "python3"
  },
  "language_info": {
   "codemirror_mode": {
    "name": "ipython",
    "version": 3
   },
   "file_extension": ".py",
   "mimetype": "text/x-python",
   "name": "python",
   "nbconvert_exporter": "python",
   "pygments_lexer": "ipython3",
   "version": "3.7.3"
  }
 },
 "nbformat": 4,
 "nbformat_minor": 2
}
